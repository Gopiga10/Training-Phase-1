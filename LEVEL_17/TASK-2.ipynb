{
 "cells": [
  {
   "cell_type": "code",
   "execution_count": 0,
   "metadata": {
    "application/vnd.databricks.v1+cell": {
     "cellMetadata": {
      "byteLimit": 2048000,
      "rowLimit": 10000
     },
     "inputWidgets": {},
     "nuid": "16398fa2-e15e-4e4e-af9d-dfad13bbccdc",
     "showTitle": false,
     "tableResultSettingsMap": {},
     "title": ""
    }
   },
   "outputs": [
    {
     "output_type": "stream",
     "name": "stdout",
     "output_type": "stream",
     "text": [
      "Commentary Data:\n+--------+------+----+----+-----------+-------+----------+\n|match_id|inning|over|ball|     batter| bowler|total_runs|\n+--------+------+----+----+-----------+-------+----------+\n|  335982|     1|   0|   1| SC Ganguly|P Kumar|         1|\n|  335982|     1|   0|   2|BB McCullum|P Kumar|         0|\n|  335982|     1|   0|   3|BB McCullum|P Kumar|         1|\n|  335982|     1|   0|   4|BB McCullum|P Kumar|         0|\n|  335982|     1|   0|   5|BB McCullum|P Kumar|         0|\n+--------+------+----+----+-----------+-------+----------+\nonly showing top 5 rows\n\nOver Data:\n+--------+------+----+----------+----+------+------+\n|match_id|inning|over|total_runs|ball|batter|bowler|\n+--------+------+----+----------+----+------+------+\n|  335992|     2|  10|       6.0|null|  null|  null|\n|  336001|     1|  16|      10.0|null|  null|  null|\n|  336004|     2|  18|       1.0|null|  null|  null|\n|  336007|     2|   0|       3.0|null|  null|  null|\n|  336008|     1|   3|       5.0|null|  null|  null|\n+--------+------+----+----------+----+------+------+\nonly showing top 5 rows\n\nUnion Data:\n+--------+------+----+----+-----------+-------+----------+\n|match_id|inning|over|ball|     batter| bowler|total_runs|\n+--------+------+----+----+-----------+-------+----------+\n|  335982|     1|   0|   1| SC Ganguly|P Kumar|         1|\n|  335982|     1|   0|   2|BB McCullum|P Kumar|         0|\n|  335982|     1|   0|   3|BB McCullum|P Kumar|         1|\n|  335982|     1|   0|   4|BB McCullum|P Kumar|         0|\n|  335982|     1|   0|   5|BB McCullum|P Kumar|         0|\n+--------+------+----+----+-----------+-------+----------+\nonly showing top 5 rows\n\nUnion By Name Data:\n+--------+------+----+----+-----------+-------+----------+\n|match_id|inning|over|ball|     batter| bowler|total_runs|\n+--------+------+----+----+-----------+-------+----------+\n|  335982|     1|   0|   1| SC Ganguly|P Kumar|         1|\n|  335982|     1|   0|   2|BB McCullum|P Kumar|         0|\n|  335982|     1|   0|   3|BB McCullum|P Kumar|         1|\n|  335982|     1|   0|   4|BB McCullum|P Kumar|         0|\n|  335982|     1|   0|   5|BB McCullum|P Kumar|         0|\n+--------+------+----+----+-----------+-------+----------+\nonly showing top 5 rows\n\n"
     ]
    }
   ],
   "source": [
    "from pyspark.sql.functions import sum as _sum, lit\n",
    "deliveries_df = spark.read.option(\"header\", True).csv(\"/FileStore/tables/deliveries.csv\")\n",
    "commentary_df = deliveries_df.select(\n",
    "    \"match_id\",\n",
    "    \"inning\",\n",
    "    \"over\",\n",
    "    \"ball\",\n",
    "    \"batter\",\n",
    "    \"bowler\",\n",
    "    \"total_runs\"\n",
    ")\n",
    "\n",
    "print(\"Commentary Data:\")\n",
    "commentary_df.show(5)\n",
    "\n",
    "# Step 3: Prepare over data (over-level aggregation)\n",
    "over_df = deliveries_df.groupBy(\n",
    "    \"match_id\",\n",
    "    \"inning\",\n",
    "    \"over\"\n",
    ").agg(\n",
    "    _sum(\"total_runs\").alias(\"total_runs\")\n",
    ").withColumn(\"ball\", lit(None)) \\\n",
    " .withColumn(\"batter\", lit(None)) \\\n",
    " .withColumn(\"bowler\", lit(None))\n",
    "\n",
    "print(\"Over Data:\")\n",
    "over_df.show(5)\n",
    "union_df = commentary_df.union(over_df)\n",
    "\n",
    "print(\"Union Data:\")\n",
    "union_df.show(5)\n",
    "union_by_name_df = commentary_df.unionByName(over_df)\n",
    "\n",
    "print(\"Union By Name Data:\")\n",
    "union_by_name_df.show(5)\n",
    "\n"
   ]
  },
  {
   "cell_type": "code",
   "execution_count": 0,
   "metadata": {
    "application/vnd.databricks.v1+cell": {
     "cellMetadata": {
      "byteLimit": 2048000,
      "rowLimit": 10000
     },
     "inputWidgets": {},
     "nuid": "901aa24d-fe97-47e2-a457-5c8e8f5f7b30",
     "showTitle": false,
     "tableResultSettingsMap": {},
     "title": ""
    }
   },
   "outputs": [
    {
     "output_type": "stream",
     "name": "stdout",
     "output_type": "stream",
     "text": [
      "root\n |-- match_id: string (nullable = true)\n |-- inning: string (nullable = true)\n |-- batting_team: string (nullable = true)\n |-- bowling_team: string (nullable = true)\n |-- over: string (nullable = true)\n |-- ball: string (nullable = true)\n |-- batter: string (nullable = true)\n |-- bowler: string (nullable = true)\n |-- non_striker: string (nullable = true)\n |-- batsman_runs: string (nullable = true)\n |-- extra_runs: string (nullable = true)\n |-- total_runs: string (nullable = true)\n |-- extras_type: string (nullable = true)\n |-- is_wicket: string (nullable = true)\n |-- player_dismissed: string (nullable = true)\n |-- dismissal_kind: string (nullable = true)\n |-- fielder: string (nullable = true)\n\n"
     ]
    }
   ],
   "source": [
    "deliveries_df = spark.read.option(\"header\", True).csv(\"/FileStore/tables/deliveries.csv\")\n",
    "deliveries_df.printSchema()\n"
   ]
  },
  {
   "cell_type": "code",
   "execution_count": 0,
   "metadata": {
    "application/vnd.databricks.v1+cell": {
     "cellMetadata": {},
     "inputWidgets": {},
     "nuid": "1af4ced1-fda1-437d-8385-de3fcefddad9",
     "showTitle": false,
     "tableResultSettingsMap": {},
     "title": ""
    }
   },
   "outputs": [],
   "source": []
  }
 ],
 "metadata": {
  "application/vnd.databricks.v1+notebook": {
   "computePreferences": null,
   "dashboards": [],
   "environmentMetadata": {
    "base_environment": "",
    "environment_version": "1"
   },
   "inputWidgetPreferences": null,
   "language": "python",
   "notebookMetadata": {
    "pythonIndentUnit": 4
   },
   "notebookName": "Union",
   "widgets": {}
  }
 },
 "nbformat": 4,
 "nbformat_minor": 0
}
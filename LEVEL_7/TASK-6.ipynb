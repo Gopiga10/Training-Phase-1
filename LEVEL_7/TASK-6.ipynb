{
 "cells": [
  {
   "cell_type": "code",
   "execution_count": 122,
   "id": "02c05ae6-fcb7-4d87-b0bf-d92f980aaace",
   "metadata": {},
   "outputs": [],
   "source": [
    "import numpy as np\n",
    "from scipy.stats import pearsonr, spearmanr"
   ]
  },
  {
   "cell_type": "code",
   "execution_count": 124,
   "id": "a9c7bb44-1aa4-46fa-98db-d6ea6ceddcab",
   "metadata": {},
   "outputs": [],
   "source": [
    "X = [10, 20, 30, 40, 50, 60, 70, 80, 90, 100]\n",
    "Y = [8, 18, 28, 35, 45, 55, 65, 78, 85, 98]"
   ]
  },
  {
   "cell_type": "code",
   "execution_count": 126,
   "id": "0645aff8-b300-48f1-a6f3-a1134b621614",
   "metadata": {},
   "outputs": [],
   "source": [
    "pearson_corr, pearson_p = pearsonr(X, Y)"
   ]
  },
  {
   "cell_type": "code",
   "execution_count": 128,
   "id": "a83f8ed9-73cf-4f67-babb-95934eb34fe7",
   "metadata": {},
   "outputs": [
    {
     "data": {
      "text/plain": [
       "(0.9986866640013385, 1.2995615006205823e-11)"
      ]
     },
     "execution_count": 128,
     "metadata": {},
     "output_type": "execute_result"
    }
   ],
   "source": [
    "pearson_corr, pearson_p"
   ]
  },
  {
   "cell_type": "code",
   "execution_count": 130,
   "id": "0569190e-4f51-4ebf-9113-d7f1cf11340a",
   "metadata": {},
   "outputs": [
    {
     "data": {
      "text/plain": [
       "(0.9999999999999999, 6.646897422032013e-64)"
      ]
     },
     "execution_count": 130,
     "metadata": {},
     "output_type": "execute_result"
    }
   ],
   "source": [
    "spearman_corr, spearman_p = spearmanr(X, Y)\n",
    "spearman_corr, spearman_p"
   ]
  },
  {
   "cell_type": "code",
   "execution_count": 132,
   "id": "7f535b1b-aa24-4c46-89d9-ae5e436664c8",
   "metadata": {},
   "outputs": [
    {
     "name": "stdout",
     "output_type": "stream",
     "text": [
      "Pearson Correlation: 0.999 (p-value: 0.000)\n",
      "Spearman Correlation: 1.000 (p-value: 0.000)\n"
     ]
    }
   ],
   "source": [
    "print(f\"Pearson Correlation: {pearson_corr:.3f} (p-value: {pearson_p:.3f})\")\n",
    "print(f\"Spearman Correlation: {spearman_corr:.3f} (p-value: {spearman_p:.3f})\")"
   ]
  },
  {
   "cell_type": "code",
   "execution_count": 136,
   "id": "d0223f88-c0c5-4c5a-b3a1-8ffe42017b61",
   "metadata": {},
   "outputs": [
    {
     "name": "stdout",
     "output_type": "stream",
     "text": [
      "Spearman correlation is higher, indicating a strong monotonic but possibly nonlinear relationship.\n"
     ]
    }
   ],
   "source": [
    "if abs(pearson_corr) > abs(spearman_corr):\n",
    "    print(\"Pearson correlation is higher, indicating a strong linear relationship.\")\n",
    "elif abs(pearson_corr) < abs(spearman_corr):\n",
    "    print(\"Spearman correlation is higher, indicating a strong monotonic but possibly nonlinear relationship.\")\n",
    "else:\n",
    "    print(\"Both correlations are similar, suggesting a strong relationship in both linear and rank-based perspectives.\")\n"
   ]
  },
  {
   "cell_type": "code",
   "execution_count": null,
   "id": "a46c42db-ac2b-4c9e-8450-a6c819aa7414",
   "metadata": {},
   "outputs": [],
   "source": []
  }
 ],
 "metadata": {
  "kernelspec": {
   "display_name": "Python 3 (ipykernel)",
   "language": "python",
   "name": "python3"
  },
  "language_info": {
   "codemirror_mode": {
    "name": "ipython",
    "version": 3
   },
   "file_extension": ".py",
   "mimetype": "text/x-python",
   "name": "python",
   "nbconvert_exporter": "python",
   "pygments_lexer": "ipython3",
   "version": "3.12.4"
  }
 },
 "nbformat": 4,
 "nbformat_minor": 5
}

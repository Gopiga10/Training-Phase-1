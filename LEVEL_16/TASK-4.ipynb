{
 "cells": [
  {
   "cell_type": "code",
   "execution_count": 0,
   "metadata": {
    "application/vnd.databricks.v1+cell": {
     "cellMetadata": {
      "byteLimit": 2048000,
      "rowLimit": 10000
     },
     "inputWidgets": {},
     "nuid": "3b9ee2dc-78d0-47df-8a73-40fd21060f72",
     "showTitle": false,
     "tableResultSettingsMap": {},
     "title": ""
    }
   },
   "outputs": [
    {
     "output_type": "stream",
     "name": "stdout",
     "output_type": "stream",
     "text": [
      "root\n |-- id: string (nullable = true)\n |-- season: string (nullable = true)\n |-- city: string (nullable = true)\n |-- date: string (nullable = true)\n |-- match_type: string (nullable = true)\n |-- player_of_match: string (nullable = true)\n |-- venue: string (nullable = true)\n |-- team1: string (nullable = true)\n |-- team2: string (nullable = true)\n |-- toss_winner: string (nullable = true)\n |-- toss_decision: string (nullable = true)\n |-- winner: string (nullable = true)\n |-- result: string (nullable = true)\n |-- result_margin: string (nullable = true)\n |-- target_runs: string (nullable = true)\n |-- target_overs: string (nullable = true)\n |-- super_over: string (nullable = true)\n |-- method: string (nullable = true)\n |-- umpire1: string (nullable = true)\n |-- umpire2: string (nullable = true)\n\nNumber of unique teams:\nTotal teams: 19\nTie-breaker techniques used for tied matches:\n+---------+\n|   result|\n+---------+\n|  wickets|\n|     runs|\n|      tie|\n|no result|\n+---------+\n\nCompleted matches:\n+---+------+----+----+----------+---------------+-----+-----+-----+-----------+-------------+------+------+-------------+-----------+------------+----------+------+-------+-------+\n| id|season|city|date|match_type|player_of_match|venue|team1|team2|toss_winner|toss_decision|winner|result|result_margin|target_runs|target_overs|super_over|method|umpire1|umpire2|\n+---+------+----+----+----------+---------------+-----+-----+-----+-----------+-------------+------+------+-------------+-----------+------------+----------+------+-------+-------+\n+---+------+----+----+----------+---------------+-----+-----+-----+-----------+-------------+------+------+-------------+-----------+------------+----------+------+-------+-------+\n\nCleaned DataFrame:\n+---+------+----+----+----------+---------------+-----+-----+-----+-----------+-------------+------+------+-------------+-----------+------------+----------+------+\n| id|season|city|date|match_type|player_of_match|venue|team1|team2|toss_winner|toss_decision|winner|result|result_margin|target_runs|target_overs|super_over|method|\n+---+------+----+----+----------+---------------+-----+-----+-----+-----------+-------------+------+------+-------------+-----------+------------+----------+------+\n+---+------+----+----+----------+---------------+-----+-----+-----+-----------+-------------+------+------+-------------+-----------+------------+----------+------+\n\n"
     ]
    }
   ],
   "source": [
    "matches_df = spark.read.option(\"header\", True).csv(\"/FileStore/tables/matches.csv\")\n",
    "matches_df.printSchema()\n",
    "print(\"Number of unique teams:\")\n",
    "teams = matches_df.select(\"team1\").distinct().count()\n",
    "print(f\"Total teams: {teams}\")\n",
    "print(\"Tie-breaker techniques used for tied matches:\")\n",
    "matches_df.select(\"result\").distinct().show()\n",
    "completed_matches_df = matches_df.filter(matches_df[\"result\"] == \"normal\")\n",
    "print(\"Completed matches:\")\n",
    "completed_matches_df.show(5)\n",
    "cleaned_df = completed_matches_df.drop(\"umpire1\", \"umpire2\", \"umpire3\", \"dl_applied\")\n",
    "print(\"Cleaned DataFrame:\")\n",
    "cleaned_df.show(5)\n"
   ]
  },
  {
   "cell_type": "code",
   "execution_count": 0,
   "metadata": {
    "application/vnd.databricks.v1+cell": {
     "cellMetadata": {},
     "inputWidgets": {},
     "nuid": "aa484c31-5115-4d43-9192-83635133958f",
     "showTitle": false,
     "tableResultSettingsMap": {},
     "title": ""
    }
   },
   "outputs": [],
   "source": []
  }
 ],
 "metadata": {
  "application/vnd.databricks.v1+notebook": {
   "computePreferences": null,
   "dashboards": [],
   "environmentMetadata": {
    "base_environment": "",
    "environment_version": "1"
   },
   "inputWidgetPreferences": null,
   "language": "python",
   "notebookMetadata": {
    "pythonIndentUnit": 4
   },
   "notebookName": "Basic EDA",
   "widgets": {}
  }
 },
 "nbformat": 4,
 "nbformat_minor": 0
}
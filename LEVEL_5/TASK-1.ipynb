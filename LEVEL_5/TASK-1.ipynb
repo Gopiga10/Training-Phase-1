{
 "cells": [
  {
   "cell_type": "code",
   "execution_count": 58,
   "id": "30499dd7-5241-4c5e-ad34-cda46fb9e7d0",
   "metadata": {},
   "outputs": [],
   "source": [
    "income={\"salary\":5000,\"freelance\":3000}"
   ]
  },
  {
   "cell_type": "code",
   "execution_count": 60,
   "id": "167935e6-5729-4a8f-bc41-09318fcc9b71",
   "metadata": {},
   "outputs": [
    {
     "data": {
      "text/plain": [
       "{'salary': 5000, 'freelance': 3000}"
      ]
     },
     "execution_count": 60,
     "metadata": {},
     "output_type": "execute_result"
    }
   ],
   "source": [
    "income"
   ]
  },
  {
   "cell_type": "code",
   "execution_count": 62,
   "id": "74fe9353-dacd-4f56-90f7-939dd01bccfd",
   "metadata": {},
   "outputs": [
    {
     "data": {
      "text/plain": [
       "{'rent': 2000, 'food': 1000}"
      ]
     },
     "execution_count": 62,
     "metadata": {},
     "output_type": "execute_result"
    }
   ],
   "source": [
    "expenses={\"rent\":2000,\"food\":1000}\n",
    "expenses"
   ]
  },
  {
   "cell_type": "code",
   "execution_count": 64,
   "id": "ab048f27-4fe0-4bef-980e-f3c170eca3e8",
   "metadata": {},
   "outputs": [],
   "source": [
    "total_income = sum(income.values())"
   ]
  },
  {
   "cell_type": "code",
   "execution_count": 68,
   "id": "dcf77582-f9c7-4a1c-a2e4-934e58379488",
   "metadata": {},
   "outputs": [],
   "source": [
    "total_expenses = sum(expenses.values())"
   ]
  },
  {
   "cell_type": "code",
   "execution_count": 78,
   "id": "2ae4c0c3-cfa5-4acb-a9f8-d3b9cfdc0117",
   "metadata": {},
   "outputs": [],
   "source": [
    "balance=total_income-total_expenses"
   ]
  },
  {
   "cell_type": "code",
   "execution_count": 80,
   "id": "8809f863-f763-44e0-8ca9-3ca19ae4b026",
   "metadata": {},
   "outputs": [
    {
     "name": "stdout",
     "output_type": "stream",
     "text": [
      "Income: 8000\n",
      "expenses: 3000\n",
      "balance amount: 5000\n"
     ]
    }
   ],
   "source": [
    "print(\"Income:\", total_income)\n",
    "print(\"expenses:\" , total_expenses)\n",
    "print(\"balance amount:\", balance )"
   ]
  },
  {
   "cell_type": "code",
   "execution_count": null,
   "id": "dcf90317-0fa8-491c-b963-d31f3da44d1d",
   "metadata": {},
   "outputs": [],
   "source": []
  }
 ],
 "metadata": {
  "kernelspec": {
   "display_name": "Python 3 (ipykernel)",
   "language": "python",
   "name": "python3"
  },
  "language_info": {
   "codemirror_mode": {
    "name": "ipython",
    "version": 3
   },
   "file_extension": ".py",
   "mimetype": "text/x-python",
   "name": "python",
   "nbconvert_exporter": "python",
   "pygments_lexer": "ipython3",
   "version": "3.12.4"
  }
 },
 "nbformat": 4,
 "nbformat_minor": 5
}

{
 "cells": [
  {
   "cell_type": "code",
   "execution_count": 67,
   "id": "9523291d-3af8-49c8-a296-ef4c0d2fefd7",
   "metadata": {},
   "outputs": [],
   "source": [
    "import random"
   ]
  },
  {
   "cell_type": "code",
   "execution_count": 59,
   "id": "b8525215-6591-4a6c-bcde-9fe5c03b7f39",
   "metadata": {},
   "outputs": [],
   "source": [
    "population = list(range(1, 101)) "
   ]
  },
  {
   "cell_type": "code",
   "execution_count": 61,
   "id": "5156d233-2615-4fb0-abb4-82c33273cba2",
   "metadata": {},
   "outputs": [
    {
     "name": "stdout",
     "output_type": "stream",
     "text": [
      "Simple Random Sample: [99, 51, 68, 25, 5, 91, 92, 29, 22, 74]\n"
     ]
    }
   ],
   "source": [
    "random_sample = random.sample(population, 10)\n",
    "print(\"Simple Random Sample:\", random_sample)"
   ]
  },
  {
   "cell_type": "code",
   "execution_count": 63,
   "id": "fc9cebda-cdcd-466b-8e7c-d9b1e000064a",
   "metadata": {},
   "outputs": [
    {
     "name": "stdout",
     "output_type": "stream",
     "text": [
      "Systematic Sample: [1, 11, 21, 31, 41, 51, 61, 71, 81, 91]\n"
     ]
    }
   ],
   "source": [
    "systematic_sample = population[::10]\n",
    "print(\"Systematic Sample:\", systematic_sample)"
   ]
  },
  {
   "cell_type": "code",
   "execution_count": 65,
   "id": "6d0e99b4-f3b8-4ab6-98c2-ff90e40e1772",
   "metadata": {},
   "outputs": [
    {
     "name": "stdout",
     "output_type": "stream",
     "text": [
      "Convenience Sample: [1, 2, 3, 4, 5, 6, 7, 8, 9, 10]\n"
     ]
    }
   ],
   "source": [
    "convenience_sample = population[:10]\n",
    "print(\"Convenience Sample:\", convenience_sample)"
   ]
  },
  {
   "cell_type": "code",
   "execution_count": null,
   "id": "8ee506cd-861b-43b2-97ce-7024a14ae694",
   "metadata": {},
   "outputs": [],
   "source": []
  }
 ],
 "metadata": {
  "kernelspec": {
   "display_name": "Python 3 (ipykernel)",
   "language": "python",
   "name": "python3"
  },
  "language_info": {
   "codemirror_mode": {
    "name": "ipython",
    "version": 3
   },
   "file_extension": ".py",
   "mimetype": "text/x-python",
   "name": "python",
   "nbconvert_exporter": "python",
   "pygments_lexer": "ipython3",
   "version": "3.12.4"
  }
 },
 "nbformat": 4,
 "nbformat_minor": 5
}

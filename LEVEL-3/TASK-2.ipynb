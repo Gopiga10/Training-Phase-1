{
 "cells": [
  {
   "cell_type": "code",
   "execution_count": 45,
   "id": "dd303d97-0eda-440c-9722-dcf7d2c2cf1b",
   "metadata": {},
   "outputs": [],
   "source": [
    "class Animal():\n",
    "    def __init__(self,make_sound):\n",
    "        self.make_sounds=make_sound\n",
    "        "
   ]
  },
  {
   "cell_type": "code",
   "execution_count": 47,
   "id": "205ef476-a460-44a3-965a-25fe928bb729",
   "metadata": {},
   "outputs": [],
   "source": [
    "class Dog(Animal):\n",
    "    def __init__(self):\n",
    "        super().__init__(\"woof\")\n"
   ]
  },
  {
   "cell_type": "code",
   "execution_count": 49,
   "id": "5cbb5e84-8e8a-4ad4-bf82-1563f96e0149",
   "metadata": {},
   "outputs": [
    {
     "name": "stdout",
     "output_type": "stream",
     "text": [
      "woof\n"
     ]
    }
   ],
   "source": [
    "dog1=Dog()\n",
    "print(dog1.make_sounds)"
   ]
  },
  {
   "cell_type": "code",
   "execution_count": null,
   "id": "dc44f314-4542-4a03-b55c-7aca41fd9c28",
   "metadata": {},
   "outputs": [],
   "source": []
  }
 ],
 "metadata": {
  "kernelspec": {
   "display_name": "Python 3 (ipykernel)",
   "language": "python",
   "name": "python3"
  },
  "language_info": {
   "codemirror_mode": {
    "name": "ipython",
    "version": 3
   },
   "file_extension": ".py",
   "mimetype": "text/x-python",
   "name": "python",
   "nbconvert_exporter": "python",
   "pygments_lexer": "ipython3",
   "version": "3.12.4"
  }
 },
 "nbformat": 4,
 "nbformat_minor": 5
}

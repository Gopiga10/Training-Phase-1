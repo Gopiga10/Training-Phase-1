{
 "cells": [
  {
   "cell_type": "code",
   "execution_count": 34,
   "id": "7d111515-a35e-4cb5-abbf-712e0ef34940",
   "metadata": {},
   "outputs": [
    {
     "name": "stdout",
     "output_type": "stream",
     "text": [
      "Requirement already satisfied: selenium in c:\\users\\hp\\anaconda3\\lib\\site-packages (4.29.0)\n",
      "Requirement already satisfied: urllib3<3,>=1.26 in c:\\users\\hp\\anaconda3\\lib\\site-packages (from urllib3[socks]<3,>=1.26->selenium) (2.2.2)\n",
      "Requirement already satisfied: trio~=0.17 in c:\\users\\hp\\anaconda3\\lib\\site-packages (from selenium) (0.29.0)\n",
      "Requirement already satisfied: trio-websocket~=0.9 in c:\\users\\hp\\anaconda3\\lib\\site-packages (from selenium) (0.12.1)\n",
      "Requirement already satisfied: certifi>=2021.10.8 in c:\\users\\hp\\anaconda3\\lib\\site-packages (from selenium) (2024.8.30)\n",
      "Requirement already satisfied: typing_extensions~=4.9 in c:\\users\\hp\\anaconda3\\lib\\site-packages (from selenium) (4.11.0)\n",
      "Requirement already satisfied: websocket-client~=1.8 in c:\\users\\hp\\anaconda3\\lib\\site-packages (from selenium) (1.8.0)\n",
      "Requirement already satisfied: attrs>=23.2.0 in c:\\users\\hp\\anaconda3\\lib\\site-packages (from trio~=0.17->selenium) (25.1.0)\n",
      "Requirement already satisfied: sortedcontainers in c:\\users\\hp\\anaconda3\\lib\\site-packages (from trio~=0.17->selenium) (2.4.0)\n",
      "Requirement already satisfied: idna in c:\\users\\hp\\anaconda3\\lib\\site-packages (from trio~=0.17->selenium) (3.7)\n",
      "Requirement already satisfied: outcome in c:\\users\\hp\\anaconda3\\lib\\site-packages (from trio~=0.17->selenium) (1.3.0.post0)\n",
      "Requirement already satisfied: sniffio>=1.3.0 in c:\\users\\hp\\anaconda3\\lib\\site-packages (from trio~=0.17->selenium) (1.3.0)\n",
      "Requirement already satisfied: cffi>=1.14 in c:\\users\\hp\\anaconda3\\lib\\site-packages (from trio~=0.17->selenium) (1.16.0)\n",
      "Requirement already satisfied: wsproto>=0.14 in c:\\users\\hp\\anaconda3\\lib\\site-packages (from trio-websocket~=0.9->selenium) (1.2.0)\n",
      "Requirement already satisfied: pysocks!=1.5.7,<2.0,>=1.5.6 in c:\\users\\hp\\anaconda3\\lib\\site-packages (from urllib3[socks]<3,>=1.26->selenium) (1.7.1)\n",
      "Requirement already satisfied: pycparser in c:\\users\\hp\\anaconda3\\lib\\site-packages (from cffi>=1.14->trio~=0.17->selenium) (2.21)\n",
      "Requirement already satisfied: h11<1,>=0.9.0 in c:\\users\\hp\\anaconda3\\lib\\site-packages (from wsproto>=0.14->trio-websocket~=0.9->selenium) (0.14.0)\n",
      "Requirement already satisfied: webdriver-manager in c:\\users\\hp\\anaconda3\\lib\\site-packages (4.0.2)\n",
      "Requirement already satisfied: requests in c:\\users\\hp\\anaconda3\\lib\\site-packages (from webdriver-manager) (2.32.2)\n",
      "Requirement already satisfied: python-dotenv in c:\\users\\hp\\anaconda3\\lib\\site-packages (from webdriver-manager) (0.21.0)\n",
      "Requirement already satisfied: packaging in c:\\users\\hp\\appdata\\roaming\\python\\python312\\site-packages (from webdriver-manager) (24.1)\n",
      "Requirement already satisfied: charset-normalizer<4,>=2 in c:\\users\\hp\\anaconda3\\lib\\site-packages (from requests->webdriver-manager) (2.0.4)\n",
      "Requirement already satisfied: idna<4,>=2.5 in c:\\users\\hp\\anaconda3\\lib\\site-packages (from requests->webdriver-manager) (3.7)\n",
      "Requirement already satisfied: urllib3<3,>=1.21.1 in c:\\users\\hp\\anaconda3\\lib\\site-packages (from requests->webdriver-manager) (2.2.2)\n",
      "Requirement already satisfied: certifi>=2017.4.17 in c:\\users\\hp\\anaconda3\\lib\\site-packages (from requests->webdriver-manager) (2024.8.30)\n",
      "Requirement already satisfied: pandas in c:\\users\\hp\\anaconda3\\lib\\site-packages (2.2.2)\n",
      "Requirement already satisfied: numpy>=1.26.0 in c:\\users\\hp\\anaconda3\\lib\\site-packages (from pandas) (1.26.4)\n",
      "Requirement already satisfied: python-dateutil>=2.8.2 in c:\\users\\hp\\appdata\\roaming\\python\\python312\\site-packages (from pandas) (2.9.0.post0)\n",
      "Requirement already satisfied: pytz>=2020.1 in c:\\users\\hp\\anaconda3\\lib\\site-packages (from pandas) (2024.1)\n",
      "Requirement already satisfied: tzdata>=2022.7 in c:\\users\\hp\\anaconda3\\lib\\site-packages (from pandas) (2023.3)\n",
      "Requirement already satisfied: six>=1.5 in c:\\users\\hp\\appdata\\roaming\\python\\python312\\site-packages (from python-dateutil>=2.8.2->pandas) (1.16.0)\n"
     ]
    }
   ],
   "source": [
    "!pip install selenium\n",
    "!pip install webdriver-manager\n",
    "!pip install pandas\n"
   ]
  },
  {
   "cell_type": "code",
   "execution_count": 54,
   "id": "474471ff-8e32-4f5d-8f23-d5e5c0f9f4ca",
   "metadata": {},
   "outputs": [],
   "source": [
    "from selenium import webdriver\n",
    "from selenium.webdriver.chrome.service import Service\n",
    "from selenium.webdriver.common.by import By\n",
    "from selenium.webdriver.chrome.options import Options\n",
    "from webdriver_manager.chrome import ChromeDriverManager\n",
    "import pandas as pd\n",
    "import time"
   ]
  },
  {
   "cell_type": "code",
   "execution_count": 56,
   "id": "aef1ed71-a9e1-4968-9262-1e7334c46db8",
   "metadata": {},
   "outputs": [],
   "source": [
    "options = Options()\n",
    "options.add_argument(\"--start-maximized\")\n",
    "driver = webdriver.Chrome(service=Service(ChromeDriverManager().install()), options=options)\n"
   ]
  },
  {
   "cell_type": "code",
   "execution_count": 64,
   "id": "8dff0296-665f-4ad4-a4fd-796839a82cf6",
   "metadata": {},
   "outputs": [],
   "source": [
    "url = 'https://www.cricbuzz.com/cricket-scorecard-archives'\n",
    "driver.get(url)\n",
    "time.sleep(3)\n"
   ]
  },
  {
   "cell_type": "code",
   "execution_count": 62,
   "id": "180ac271-8cf7-4d97-aa4d-0bd6d80d8a2e",
   "metadata": {},
   "outputs": [],
   "source": [
    "last_height = driver.execute_script(\"return document.body.scrollHeight\")\n",
    "while True:\n",
    "    driver.execute_script(\"window.scrollTo(0, document.body.scrollHeight);\")\n",
    "    time.sleep(2)\n",
    "    new_height = driver.execute_script(\"return document.body.scrollHeight\")\n",
    "    if new_height == last_height:\n",
    "        break\n",
    "    last_height = new_height"
   ]
  },
  {
   "cell_type": "code",
   "execution_count": 66,
   "id": "7d9529f1-b8c6-4fd3-8812-3260423bb542",
   "metadata": {},
   "outputs": [
    {
     "name": "stdout",
     "output_type": "stream",
     "text": [
      "Found 2 series containers.\n",
      "Error processing container: Message: no such element: Unable to locate element: {\"method\":\"tag name\",\"selector\":\"h2\"}\n",
      "  (Session info: chrome=135.0.7049.41); For documentation on this error, please visit: https://www.selenium.dev/documentation/webdriver/troubleshooting/errors#no-such-element-exception\n",
      "Stacktrace:\n",
      "\tGetHandleVerifier [0x00CB5413+60691]\n",
      "\tGetHandleVerifier [0x00CB5454+60756]\n",
      "\t(No symbol) [0x00AE0693]\n",
      "\t(No symbol) [0x00B28660]\n",
      "\t(No symbol) [0x00B289FB]\n",
      "\t(No symbol) [0x00B1DDA1]\n",
      "\t(No symbol) [0x00B4D0A4]\n",
      "\t(No symbol) [0x00B1DCC4]\n",
      "\t(No symbol) [0x00B4D2D4]\n",
      "\t(No symbol) [0x00B6E6FB]\n",
      "\t(No symbol) [0x00B4CE56]\n",
      "\t(No symbol) [0x00B1C5F3]\n",
      "\t(No symbol) [0x00B1D444]\n",
      "\tGetHandleVerifier [0x00EFBBC3+2446531]\n",
      "\tGetHandleVerifier [0x00EF7198+2427544]\n",
      "\tGetHandleVerifier [0x00F12D5E+2541150]\n",
      "\tGetHandleVerifier [0x00CCC3C5+154821]\n",
      "\tGetHandleVerifier [0x00CD2BED+181485]\n",
      "\tGetHandleVerifier [0x00CBCC48+91464]\n",
      "\tGetHandleVerifier [0x00CBCDF0+91888]\n",
      "\tGetHandleVerifier [0x00CA7980+4736]\n",
      "\tBaseThreadInitThunk [0x763B5D49+25]\n",
      "\tRtlInitializeExceptionChain [0x77C1CF0B+107]\n",
      "\tRtlGetAppContainerNamedObjectPath [0x77C1CE91+561]\n",
      "\n"
     ]
    }
   ],
   "source": [
    "data = []\n",
    "series_containers = driver.find_elements(By.CSS_SELECTOR, 'div.cb-col.cb-col-100.cb-bg-white')\n",
    "\n",
    "print(f\"Found {len(series_containers)} series containers.\")\n",
    "\n",
    "for container in series_containers:\n",
    "    try:\n",
    "        year_element = container.find_element(By.TAG_NAME, 'h2')\n",
    "        year = year_element.text.strip()\n",
    "        series_links = container.find_elements(By.TAG_NAME, 'a')\n",
    "\n",
    "        for link in series_links:\n",
    "            series_name = link.text.strip()\n",
    "            series_href = link.get_attribute('href')\n",
    "            data.append({\n",
    "                'year': year,\n",
    "                'series_name': series_name,\n",
    "                'series_href': \"https://www.cricbuzz.com\" + series_href\n",
    "            })\n",
    "\n",
    "    except Exception as e:\n",
    "        print(f\"Error processing container: {e}\")\n"
   ]
  },
  {
   "cell_type": "code",
   "execution_count": 68,
   "id": "988d7bcf-31f2-4539-95f3-7edb48af2479",
   "metadata": {},
   "outputs": [
    {
     "name": "stdout",
     "output_type": "stream",
     "text": [
      "   year                               series_name  \\\n",
      "0  2025              Canada tour of Namibia, 2025   \n",
      "1  2025        Pakistan tour of New Zealand, 2025   \n",
      "2  2025  Falkland Islands tour of Costa Rica 2025   \n",
      "3  2025     Malaysia Tri-Nation T20I Series, 2025   \n",
      "4  2025           Bahrain tour of Singapore, 2025   \n",
      "\n",
      "                                         series_href  \n",
      "0  https://www.cricbuzz.comhttps://www.cricbuzz.c...  \n",
      "1  https://www.cricbuzz.comhttps://www.cricbuzz.c...  \n",
      "2  https://www.cricbuzz.comhttps://www.cricbuzz.c...  \n",
      "3  https://www.cricbuzz.comhttps://www.cricbuzz.c...  \n",
      "4  https://www.cricbuzz.comhttps://www.cricbuzz.c...  \n",
      "Data saved successfully!\n"
     ]
    }
   ],
   "source": [
    "df = pd.DataFrame(data)\n",
    "print(df.head())\n",
    "df.to_csv('cricbuzz_series.csv', index=False)\n",
    "\n",
    "print(\"Data saved successfully!\")\n",
    "driver.quit()"
   ]
  },
  {
   "cell_type": "code",
   "execution_count": null,
   "id": "c9ac594c-0d7b-4323-aae1-a46ed58218f6",
   "metadata": {},
   "outputs": [],
   "source": []
  }
 ],
 "metadata": {
  "kernelspec": {
   "display_name": "Python 3 (ipykernel)",
   "language": "python",
   "name": "python3"
  },
  "language_info": {
   "codemirror_mode": {
    "name": "ipython",
    "version": 3
   },
   "file_extension": ".py",
   "mimetype": "text/x-python",
   "name": "python",
   "nbconvert_exporter": "python",
   "pygments_lexer": "ipython3",
   "version": "3.12.4"
  }
 },
 "nbformat": 4,
 "nbformat_minor": 5
}

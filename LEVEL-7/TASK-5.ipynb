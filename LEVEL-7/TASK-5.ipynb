{
 "cells": [
  {
   "cell_type": "code",
   "execution_count": 106,
   "id": "40e724df-8f62-46dc-a03d-918fb5615eef",
   "metadata": {},
   "outputs": [],
   "source": [
    "import numpy as np"
   ]
  },
  {
   "cell_type": "code",
   "execution_count": 108,
   "id": "1a2afee0-fdb1-4499-9eec-8fea39baffdf",
   "metadata": {},
   "outputs": [],
   "source": [
    "X = [2, 4, 6, 8, 10]\n",
    "Y = [1, 3, 5, 7, 9]"
   ]
  },
  {
   "cell_type": "code",
   "execution_count": 110,
   "id": "77436d14-e405-43d4-8be6-85ca5d366720",
   "metadata": {},
   "outputs": [],
   "source": [
    "cov_matrix = np.cov(X, Y, bias=False)  \n",
    "cov_value = cov_matrix[0, 1]"
   ]
  },
  {
   "cell_type": "code",
   "execution_count": 112,
   "id": "491894f9-b1d5-4408-b0f9-ddd604dbb27b",
   "metadata": {},
   "outputs": [
    {
     "data": {
      "text/plain": [
       "array([[10., 10.],\n",
       "       [10., 10.]])"
      ]
     },
     "execution_count": 112,
     "metadata": {},
     "output_type": "execute_result"
    }
   ],
   "source": [
    "cov_matrix"
   ]
  },
  {
   "cell_type": "code",
   "execution_count": 118,
   "id": "69bb6f80-e674-4045-bbee-db4da1307b82",
   "metadata": {},
   "outputs": [
    {
     "name": "stdout",
     "output_type": "stream",
     "text": [
      "Covariance: 10.000\n"
     ]
    }
   ],
   "source": [
    "print(f\"Covariance: {cov_value:.3f}\")"
   ]
  },
  {
   "cell_type": "code",
   "execution_count": 120,
   "id": "3b96da1f-8b8e-422b-94f0-612b57dd46a2",
   "metadata": {},
   "outputs": [
    {
     "name": "stdout",
     "output_type": "stream",
     "text": [
      "Positive covariance: Both variables increase together.\n"
     ]
    }
   ],
   "source": [
    "if cov_value > 0:\n",
    "    print(\"Positive covariance: Both variables increase together.\")\n",
    "elif cov_value < 0:\n",
    "    print(\"Negative covariance: When one variable increases, the other decreases.\")\n",
    "else:\n",
    "    print(\"Zero covariance: No relationship between the variables.\")\n"
   ]
  },
  {
   "cell_type": "code",
   "execution_count": null,
   "id": "02c05ae6-fcb7-4d87-b0bf-d92f980aaace",
   "metadata": {},
   "outputs": [],
   "source": []
  }
 ],
 "metadata": {
  "kernelspec": {
   "display_name": "Python 3 (ipykernel)",
   "language": "python",
   "name": "python3"
  },
  "language_info": {
   "codemirror_mode": {
    "name": "ipython",
    "version": 3
   },
   "file_extension": ".py",
   "mimetype": "text/x-python",
   "name": "python",
   "nbconvert_exporter": "python",
   "pygments_lexer": "ipython3",
   "version": "3.12.4"
  }
 },
 "nbformat": 4,
 "nbformat_minor": 5
}

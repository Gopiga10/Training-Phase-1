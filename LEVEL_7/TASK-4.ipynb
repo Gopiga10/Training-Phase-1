{
 "cells": [
  {
   "cell_type": "code",
   "execution_count": 90,
   "id": "80bb4e04-2022-4515-ab04-4aac51656c71",
   "metadata": {},
   "outputs": [],
   "source": [
    "import numpy as np\n",
    "from scipy.stats import chisquare"
   ]
  },
  {
   "cell_type": "code",
   "execution_count": 102,
   "id": "20f9fa4c-1a02-4396-ad11-ad2484ce2931",
   "metadata": {},
   "outputs": [
    {
     "data": {
      "text/plain": [
       "array([50, 30, 20])"
      ]
     },
     "execution_count": 102,
     "metadata": {},
     "output_type": "execute_result"
    }
   ],
   "source": [
    "observed = np.array([50, 30, 20])\n",
    "observed"
   ]
  },
  {
   "cell_type": "code",
   "execution_count": 104,
   "id": "a9c4c185-51f5-4013-954a-8c603f3bf956",
   "metadata": {},
   "outputs": [
    {
     "data": {
      "text/plain": [
       "array([40, 40, 20])"
      ]
     },
     "execution_count": 104,
     "metadata": {},
     "output_type": "execute_result"
    }
   ],
   "source": [
    "expected = np.array([40, 40, 20])\n",
    "expected"
   ]
  },
  {
   "cell_type": "code",
   "execution_count": 96,
   "id": "c5403389-50b2-4d33-ac8e-616f9fee1ad9",
   "metadata": {},
   "outputs": [],
   "source": [
    "chi_stat, p_value = chisquare(f_obs=observed, f_exp=expected)"
   ]
  },
  {
   "cell_type": "code",
   "execution_count": 98,
   "id": "169bd604-e2b5-4020-9846-0053dd086f51",
   "metadata": {},
   "outputs": [],
   "source": [
    "alpha = 0.05\n",
    "decision = \"Reject the null hypothesis. The observed distribution is significantly different from the expected.\" if p_value < alpha else \"Fail to reject the null hypothesis. No significant difference between observed and expected distributions.\""
   ]
  },
  {
   "cell_type": "code",
   "execution_count": 100,
   "id": "525c48b9-b9a4-4a17-950e-d3fbcbe92771",
   "metadata": {},
   "outputs": [
    {
     "name": "stdout",
     "output_type": "stream",
     "text": [
      "Chi-square Statistic: 5.000\n",
      "P-value: 0.082\n",
      "Decision: Fail to reject the null hypothesis. No significant difference between observed and expected distributions.\n"
     ]
    }
   ],
   "source": [
    "print(f\"Chi-square Statistic: {chi_stat:.3f}\")\n",
    "print(f\"P-value: {p_value:.3f}\")\n",
    "print(f\"Decision: {decision}\")"
   ]
  },
  {
   "cell_type": "code",
   "execution_count": null,
   "id": "0b6c198c-550d-4a8b-9e7d-d3a289245684",
   "metadata": {},
   "outputs": [],
   "source": []
  }
 ],
 "metadata": {
  "kernelspec": {
   "display_name": "Python 3 (ipykernel)",
   "language": "python",
   "name": "python3"
  },
  "language_info": {
   "codemirror_mode": {
    "name": "ipython",
    "version": 3
   },
   "file_extension": ".py",
   "mimetype": "text/x-python",
   "name": "python",
   "nbconvert_exporter": "python",
   "pygments_lexer": "ipython3",
   "version": "3.12.4"
  }
 },
 "nbformat": 4,
 "nbformat_minor": 5
}

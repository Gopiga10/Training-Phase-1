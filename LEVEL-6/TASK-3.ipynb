{
 "cells": [
  {
   "cell_type": "code",
   "execution_count": 85,
   "id": "1d804209-0dd6-4d2c-b7f8-e7bb36b14121",
   "metadata": {},
   "outputs": [],
   "source": [
    "def identify_population_sample(population, sample):\n",
    "    print(\"Population:\", population)\n",
    "    print(\"Sample:\", sample)"
   ]
  },
  {
   "cell_type": "code",
   "execution_count": 87,
   "id": "7c756fbe-0741-442b-b522-de0530ddb57a",
   "metadata": {},
   "outputs": [],
   "source": [
    "population = [\"Student_1\", \"Student_2\", \"Student_3\", \"Student_4\", \"Student_5\", \"Student_6\", \"Student_7\", \"Student_8\"]\n",
    "sample = [\"Student_2\", \"Student_5\", \"Student_8\"]  "
   ]
  },
  {
   "cell_type": "code",
   "execution_count": 89,
   "id": "b64213ab-fdf9-41f1-9e0c-4433bc4f3aee",
   "metadata": {},
   "outputs": [
    {
     "name": "stdout",
     "output_type": "stream",
     "text": [
      "Population: ['Student_1', 'Student_2', 'Student_3', 'Student_4', 'Student_5', 'Student_6', 'Student_7', 'Student_8']\n",
      "Sample: ['Student_2', 'Student_5', 'Student_8']\n"
     ]
    }
   ],
   "source": [
    "identify_population_sample(population, sample)"
   ]
  },
  {
   "cell_type": "code",
   "execution_count": null,
   "id": "1dabdb16-ecce-4597-828d-f239eb4dfa0f",
   "metadata": {},
   "outputs": [],
   "source": []
  }
 ],
 "metadata": {
  "kernelspec": {
   "display_name": "Python 3 (ipykernel)",
   "language": "python",
   "name": "python3"
  },
  "language_info": {
   "codemirror_mode": {
    "name": "ipython",
    "version": 3
   },
   "file_extension": ".py",
   "mimetype": "text/x-python",
   "name": "python",
   "nbconvert_exporter": "python",
   "pygments_lexer": "ipython3",
   "version": "3.12.4"
  }
 },
 "nbformat": 4,
 "nbformat_minor": 5
}

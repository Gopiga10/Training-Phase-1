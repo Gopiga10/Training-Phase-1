{
 "cells": [
  {
   "cell_type": "markdown",
   "id": "d4c0d3cb-4637-4fab-8d62-85474dbf583b",
   "metadata": {},
   "source": [
    "## Qualitative Data"
   ]
  },
  {
   "cell_type": "markdown",
   "id": "569bece5-1839-4820-80b5-9f5ff0a64106",
   "metadata": {},
   "source": [
    "1) Nominal Data - The values does not comapre with each other (No Ranking) (eg:city-> Coimbatore, Chennai . The both cities does not rank between each other )\n",
    "2) Ordinal Data - The values that follows ranking (eg: Grade-> Grade A, Grade b , Grade C )"
   ]
  },
  {
   "cell_type": "markdown",
   "id": "69c009ac-402c-4dfa-8330-0a94eefae71f",
   "metadata": {},
   "source": [
    "## Quantitative Data "
   ]
  },
  {
   "cell_type": "markdown",
   "id": "30c0eab4-14f8-4cdb-9e80-8dd32fc2fb87",
   "metadata": {},
   "source": [
    "1) Discrete - countable data (eg:numbers of students in each class)\n",
    "2) Continuous - Uncountable data(eg:height,DOB,Time ) "
   ]
  },
  {
   "cell_type": "code",
   "execution_count": 73,
   "id": "4c1f46ab-c549-4e8b-af24-a018957d6ad6",
   "metadata": {},
   "outputs": [],
   "source": [
    "def classify_variable(variable, values):\n",
    "    if all(isinstance(v, int) for v in values):\n",
    "        return f\"{variable}: Quantitative - Discrete\"\n",
    "    elif all(isinstance(v, float) for v in values):\n",
    "        return f\"{variable}: Quantitative - Continuous\"\n",
    "    elif all(isinstance(v, str) for v in values):\n",
    "        return f\"{variable}: Qualitative\"\n",
    "    else:\n",
    "        return f\"{variable}: Unknown Type\"\n"
   ]
  },
  {
   "cell_type": "code",
   "execution_count": 75,
   "id": "adf3ddb2-4e5f-445e-bbcf-7a5b77292888",
   "metadata": {},
   "outputs": [],
   "source": [
    "variables = {\n",
    "    \"Number of Siblings\": [0, 1, 2, 3],\n",
    "    \"Height (cm)\": [150.5, 160.2, 175.0],\n",
    "    \"Eye Color\": [\"Blue\", \"Green\", \"Brown\"],\n",
    "    \"Customer Satisfaction\": [\"Low\", \"Medium\", \"High\"],\n",
    "    \"Temperature (°C)\": [32.5, 35.0, 28.3]\n",
    "}"
   ]
  },
  {
   "cell_type": "code",
   "execution_count": 77,
   "id": "4a3591a2-5cea-4460-8723-7d53d0ff19c7",
   "metadata": {},
   "outputs": [
    {
     "name": "stdout",
     "output_type": "stream",
     "text": [
      "Number of Siblings: Quantitative - Discrete\n",
      "Height (cm): Quantitative - Continuous\n",
      "Eye Color: Qualitative\n",
      "Customer Satisfaction: Qualitative\n",
      "Temperature (°C): Quantitative - Continuous\n"
     ]
    }
   ],
   "source": [
    "for var, values in variables.items():\n",
    "    print(classify_variable(var, values))"
   ]
  },
  {
   "cell_type": "code",
   "execution_count": null,
   "id": "4c24544c-fdbc-4d18-b874-5a3281210fd1",
   "metadata": {},
   "outputs": [],
   "source": []
  }
 ],
 "metadata": {
  "kernelspec": {
   "display_name": "Python 3 (ipykernel)",
   "language": "python",
   "name": "python3"
  },
  "language_info": {
   "codemirror_mode": {
    "name": "ipython",
    "version": 3
   },
   "file_extension": ".py",
   "mimetype": "text/x-python",
   "name": "python",
   "nbconvert_exporter": "python",
   "pygments_lexer": "ipython3",
   "version": "3.12.4"
  }
 },
 "nbformat": 4,
 "nbformat_minor": 5
}

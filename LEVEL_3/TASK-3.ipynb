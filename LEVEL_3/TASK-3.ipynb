{
 "cells": [
  {
   "cell_type": "code",
   "execution_count": 51,
   "id": "dc44f314-4542-4a03-b55c-7aca41fd9c28",
   "metadata": {},
   "outputs": [
    {
     "name": "stdout",
     "output_type": "stream",
     "text": [
      "Elapsed time: 1.0012 seconds\n"
     ]
    }
   ],
   "source": [
    "import time  \n",
    "def timer_decorator(func):\n",
    "    def wrapper():\n",
    "        start = time.time()\n",
    "        func()\n",
    "        print(f\"Elapsed time: {time.time() - start:.4f} seconds\")\n",
    "    return wrapper  \n",
    "@timer_decorator\n",
    "def sample_function():\n",
    "    time.sleep(1)  \n",
    "\n",
    "sample_function()"
   ]
  },
  {
   "cell_type": "code",
   "execution_count": null,
   "id": "e3f41f34-8dcd-4d06-abc0-abefb54601cd",
   "metadata": {},
   "outputs": [],
   "source": []
  }
 ],
 "metadata": {
  "kernelspec": {
   "display_name": "Python 3 (ipykernel)",
   "language": "python",
   "name": "python3"
  },
  "language_info": {
   "codemirror_mode": {
    "name": "ipython",
    "version": 3
   },
   "file_extension": ".py",
   "mimetype": "text/x-python",
   "name": "python",
   "nbconvert_exporter": "python",
   "pygments_lexer": "ipython3",
   "version": "3.12.4"
  }
 },
 "nbformat": 4,
 "nbformat_minor": 5
}

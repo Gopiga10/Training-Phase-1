{
 "cells": [
  {
   "cell_type": "code",
   "execution_count": 36,
   "id": "98d49bd4-3179-45c9-8fb9-5168598697cb",
   "metadata": {},
   "outputs": [],
   "source": [
    "import numpy as np\n",
    "from scipy.stats import norm"
   ]
  },
  {
   "cell_type": "code",
   "execution_count": 38,
   "id": "bb1a0c6b-68ce-4c84-a9df-b0108e01e9d8",
   "metadata": {},
   "outputs": [],
   "source": [
    "sample1 = [55, 52, 58, 54, 60, 57, 53, 56, 59, 55]\n",
    "n1 = len(sample1)\n",
    "mean1 = np.mean(sample1)\n",
    "std1 = 4 "
   ]
  },
  {
   "cell_type": "code",
   "execution_count": 50,
   "id": "3968c4b3-5c1a-4d61-993b-5fa202be4c28",
   "metadata": {},
   "outputs": [
    {
     "data": {
      "text/plain": [
       "10"
      ]
     },
     "execution_count": 50,
     "metadata": {},
     "output_type": "execute_result"
    }
   ],
   "source": [
    "n1"
   ]
  },
  {
   "cell_type": "code",
   "execution_count": 52,
   "id": "512b504c-9f17-48b4-86e5-8c09730ab278",
   "metadata": {},
   "outputs": [
    {
     "data": {
      "text/plain": [
       "55.9"
      ]
     },
     "execution_count": 52,
     "metadata": {},
     "output_type": "execute_result"
    }
   ],
   "source": [
    "mean1"
   ]
  },
  {
   "cell_type": "code",
   "execution_count": 54,
   "id": "93cbc2bc-925c-43f0-bd66-a23ff60d8ea4",
   "metadata": {},
   "outputs": [
    {
     "data": {
      "text/plain": [
       "4"
      ]
     },
     "execution_count": 54,
     "metadata": {},
     "output_type": "execute_result"
    }
   ],
   "source": [
    "std1"
   ]
  },
  {
   "cell_type": "code",
   "execution_count": 40,
   "id": "1e8a3b30-1914-4f06-9dda-fac22953222f",
   "metadata": {},
   "outputs": [],
   "source": [
    "sample2 = [50, 47, 51, 49, 52, 48, 46, 50, 51, 48]\n",
    "n2 = len(sample2)\n",
    "mean2 = np.mean(sample2)\n",
    "std2 = 3 "
   ]
  },
  {
   "cell_type": "code",
   "execution_count": 56,
   "id": "21ee5fdd-1ddd-4c63-8102-e547290febc9",
   "metadata": {},
   "outputs": [
    {
     "data": {
      "text/plain": [
       "10"
      ]
     },
     "execution_count": 56,
     "metadata": {},
     "output_type": "execute_result"
    }
   ],
   "source": [
    "n2"
   ]
  },
  {
   "cell_type": "code",
   "execution_count": 58,
   "id": "5bc85297-e627-4b0a-93f0-b55dcf3e1e04",
   "metadata": {},
   "outputs": [
    {
     "data": {
      "text/plain": [
       "49.2"
      ]
     },
     "execution_count": 58,
     "metadata": {},
     "output_type": "execute_result"
    }
   ],
   "source": [
    "mean2"
   ]
  },
  {
   "cell_type": "code",
   "execution_count": 60,
   "id": "ac3adb9a-ea6b-4a80-9340-e573e0210821",
   "metadata": {},
   "outputs": [
    {
     "data": {
      "text/plain": [
       "3"
      ]
     },
     "execution_count": 60,
     "metadata": {},
     "output_type": "execute_result"
    }
   ],
   "source": [
    "std2"
   ]
  },
  {
   "cell_type": "code",
   "execution_count": 62,
   "id": "538a33e4-6c02-44df-a715-6924ac63c232",
   "metadata": {},
   "outputs": [
    {
     "data": {
      "text/plain": [
       "4.237452064625625"
      ]
     },
     "execution_count": 62,
     "metadata": {},
     "output_type": "execute_result"
    }
   ],
   "source": [
    "z_score = (mean1 - mean2) / np.sqrt((std1**2 / n1) + (std2**2 / n2))\n",
    "z_score"
   ]
  },
  {
   "cell_type": "code",
   "execution_count": 64,
   "id": "bdc46a31-e141-4e2b-906c-80d493e20ff6",
   "metadata": {},
   "outputs": [
    {
     "data": {
      "text/plain": [
       "2.2607066510360596e-05"
      ]
     },
     "execution_count": 64,
     "metadata": {},
     "output_type": "execute_result"
    }
   ],
   "source": [
    "p_value = 2 * (1 - norm.cdf(abs(z_score)))\n",
    "p_value"
   ]
  },
  {
   "cell_type": "code",
   "execution_count": 70,
   "id": "a57850c0-5183-48e0-bf63-53f86f240f42",
   "metadata": {},
   "outputs": [],
   "source": [
    "alpha = 0.05\n",
    "decision = \"Reject the null hypothesis. The sample means are significantly different.\" if p_value < alpha else \"Fail to reject the null hypothesis (H0). No significant difference.\""
   ]
  },
  {
   "cell_type": "code",
   "execution_count": 72,
   "id": "bc702528-631d-44ca-91f5-63b6afff8a2b",
   "metadata": {},
   "outputs": [
    {
     "name": "stdout",
     "output_type": "stream",
     "text": [
      "Z-score: 4.237\n",
      "P-value: 0.000\n",
      "Decision: Reject the null hypothesis. The sample means are significantly different.\n"
     ]
    }
   ],
   "source": [
    "print(f\"Z-score: {z_score:.3f}\")\n",
    "print(f\"P-value: {p_value:.3f}\")\n",
    "print(f\"Decision: {decision}\")"
   ]
  },
  {
   "cell_type": "code",
   "execution_count": null,
   "id": "20357f7c-fdd7-40d0-b093-b587fa6b2c08",
   "metadata": {},
   "outputs": [],
   "source": []
  }
 ],
 "metadata": {
  "kernelspec": {
   "display_name": "Python 3 (ipykernel)",
   "language": "python",
   "name": "python3"
  },
  "language_info": {
   "codemirror_mode": {
    "name": "ipython",
    "version": 3
   },
   "file_extension": ".py",
   "mimetype": "text/x-python",
   "name": "python",
   "nbconvert_exporter": "python",
   "pygments_lexer": "ipython3",
   "version": "3.12.4"
  }
 },
 "nbformat": 4,
 "nbformat_minor": 5
}

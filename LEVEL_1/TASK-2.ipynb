{
 "cells": [
  {
   "cell_type": "code",
   "execution_count": 72,
   "id": "9f19d50c-7922-4a6b-992c-a3e189e7987d",
   "metadata": {},
   "outputs": [],
   "source": [
    "import numpy as np"
   ]
  },
  {
   "cell_type": "code",
   "execution_count": 74,
   "id": "9767502b-8786-4871-93dc-deffe21c67ee",
   "metadata": {},
   "outputs": [
    {
     "data": {
      "text/plain": [
       "array([ 1,  2,  3,  4,  5,  6,  7,  8,  9, 10])"
      ]
     },
     "execution_count": 74,
     "metadata": {},
     "output_type": "execute_result"
    }
   ],
   "source": [
    "arr=np.array([1,2,3,4,5,6,7,8,9,10])\n",
    "arr"
   ]
  },
  {
   "cell_type": "code",
   "execution_count": 76,
   "id": "845ca30d-20ca-44e8-85aa-064d82bb6e65",
   "metadata": {},
   "outputs": [],
   "source": [
    "mean= np.mean(arr)\n",
    "max= np.max(arr)\n",
    "min= np.min(arr)"
   ]
  },
  {
   "cell_type": "code",
   "execution_count": 78,
   "id": "00629d3b-2155-400a-b95a-6245a3381605",
   "metadata": {},
   "outputs": [
    {
     "name": "stdout",
     "output_type": "stream",
     "text": [
      "mean: 5.5\n",
      "max: 10\n",
      "min: 1\n"
     ]
    }
   ],
   "source": [
    "print(\"mean:\",mean)\n",
    "print(\"max:\",max)\n",
    "print(\"min:\",min)"
   ]
  },
  {
   "cell_type": "code",
   "execution_count": null,
   "id": "5ef0491e-ec86-4740-89dc-f92ce15e78a4",
   "metadata": {},
   "outputs": [],
   "source": []
  }
 ],
 "metadata": {
  "kernelspec": {
   "display_name": "Python 3 (ipykernel)",
   "language": "python",
   "name": "python3"
  },
  "language_info": {
   "codemirror_mode": {
    "name": "ipython",
    "version": 3
   },
   "file_extension": ".py",
   "mimetype": "text/x-python",
   "name": "python",
   "nbconvert_exporter": "python",
   "pygments_lexer": "ipython3",
   "version": "3.12.4"
  }
 },
 "nbformat": 4,
 "nbformat_minor": 5
}

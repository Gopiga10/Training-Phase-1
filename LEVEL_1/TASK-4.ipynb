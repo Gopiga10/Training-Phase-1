{
 "cells": [
  {
   "cell_type": "code",
   "execution_count": 88,
   "id": "12a6d2c2-a64c-4f91-b9b7-f47a8722a5c2",
   "metadata": {},
   "outputs": [
    {
     "name": "stdin",
     "output_type": "stream",
     "text": [
      "enter a key: car1\n",
      "enter a value: bmw\n",
      "enter a key: car2\n",
      "enter a value: ferrari\n",
      "enter a key: car3\n",
      "enter a value: grand vitara\n"
     ]
    },
    {
     "name": "stdout",
     "output_type": "stream",
     "text": [
      "{'car1': 'bmw', 'car2': 'ferrari', 'car3': 'grand vitara'}\n"
     ]
    }
   ],
   "source": [
    "dict1={}\n",
    "for x in range(3):\n",
    "    a=input(\"enter a key:\")\n",
    "    b=input(\"enter a value:\")\n",
    "    dict1[a]=b\n",
    "print(dict1)"
   ]
  },
  {
   "cell_type": "code",
   "execution_count": null,
   "id": "d229db5e-1a74-4286-9328-3b3669504228",
   "metadata": {},
   "outputs": [],
   "source": []
  }
 ],
 "metadata": {
  "kernelspec": {
   "display_name": "Python 3 (ipykernel)",
   "language": "python",
   "name": "python3"
  },
  "language_info": {
   "codemirror_mode": {
    "name": "ipython",
    "version": 3
   },
   "file_extension": ".py",
   "mimetype": "text/x-python",
   "name": "python",
   "nbconvert_exporter": "python",
   "pygments_lexer": "ipython3",
   "version": "3.12.4"
  }
 },
 "nbformat": 4,
 "nbformat_minor": 5
}

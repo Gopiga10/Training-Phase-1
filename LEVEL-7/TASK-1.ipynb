{
 "cells": [
  {
   "cell_type": "code",
   "execution_count": 1,
   "id": "f90e7048-64a7-44e7-a6a1-b60363b6e81d",
   "metadata": {},
   "outputs": [],
   "source": [
    "import numpy as np\n",
    "from scipy.stats import norm"
   ]
  },
  {
   "cell_type": "code",
   "execution_count": 15,
   "id": "bc6c6b23-97d6-4637-ab99-bf63b1f2ca7c",
   "metadata": {},
   "outputs": [],
   "source": [
    "sample = [50, 52, 48, 47, 53, 49, 51, 50, 52, 48]  "
   ]
  },
  {
   "cell_type": "code",
   "execution_count": 17,
   "id": "a4b138b1-b12b-4e21-93cd-280661b95d1b",
   "metadata": {},
   "outputs": [],
   "source": [
    "n = len(sample)  "
   ]
  },
  {
   "cell_type": "code",
   "execution_count": 19,
   "id": "b4e88935-53ba-40b1-b6b6-b9e117f5873c",
   "metadata": {},
   "outputs": [
    {
     "data": {
      "text/plain": [
       "10"
      ]
     },
     "execution_count": 19,
     "metadata": {},
     "output_type": "execute_result"
    }
   ],
   "source": [
    "n"
   ]
  },
  {
   "cell_type": "code",
   "execution_count": 21,
   "id": "09cf91fd-ca5f-41ad-a460-2af1f84d744f",
   "metadata": {},
   "outputs": [
    {
     "data": {
      "text/plain": [
       "50.0"
      ]
     },
     "execution_count": 21,
     "metadata": {},
     "output_type": "execute_result"
    }
   ],
   "source": [
    "sample_mean = np.mean(sample) \n",
    "sample_mean"
   ]
  },
  {
   "cell_type": "code",
   "execution_count": 13,
   "id": "6bfbed74-eeda-4a2a-990e-868bbe044fe9",
   "metadata": {},
   "outputs": [],
   "source": [
    "pop_mean = 50 \n",
    "pop_std = 3 "
   ]
  },
  {
   "cell_type": "code",
   "execution_count": 30,
   "id": "e4c5db75-bfe3-4a8a-873c-123acc0d2211",
   "metadata": {},
   "outputs": [],
   "source": [
    "z_score = (sample_mean - pop_mean) / (pop_std / np.sqrt(n))\n",
    "p_value = 2 * (1 - norm.cdf(abs(z_score)))"
   ]
  },
  {
   "cell_type": "code",
   "execution_count": 32,
   "id": "c91ee456-89cd-4721-9e8b-772c0d3aa7ab",
   "metadata": {},
   "outputs": [],
   "source": [
    "alpha = 0.05  # Significance level\n",
    "if p_value < alpha:\n",
    "    decision = \"Reject the null hypothesis. The sample mean is significantly different.\"\n",
    "else:\n",
    "    decision = \"Fail to reject the null hypothesis. No significant difference.\"\n"
   ]
  },
  {
   "cell_type": "code",
   "execution_count": 34,
   "id": "29057840-0b42-490a-9399-602cedbb7b84",
   "metadata": {},
   "outputs": [
    {
     "name": "stdout",
     "output_type": "stream",
     "text": [
      "Z-score: 0.000\n",
      "P-value: 1.000\n",
      "Decision: Fail to reject the null hypothesis. No significant difference.\n"
     ]
    }
   ],
   "source": [
    "print(f\"Z-score: {z_score:.3f}\")\n",
    "print(f\"P-value: {p_value:.3f}\")\n",
    "print(f\"Decision: {decision}\")"
   ]
  },
  {
   "cell_type": "code",
   "execution_count": null,
   "id": "98d49bd4-3179-45c9-8fb9-5168598697cb",
   "metadata": {},
   "outputs": [],
   "source": []
  }
 ],
 "metadata": {
  "kernelspec": {
   "display_name": "Python 3 (ipykernel)",
   "language": "python",
   "name": "python3"
  },
  "language_info": {
   "codemirror_mode": {
    "name": "ipython",
    "version": 3
   },
   "file_extension": ".py",
   "mimetype": "text/x-python",
   "name": "python",
   "nbconvert_exporter": "python",
   "pygments_lexer": "ipython3",
   "version": "3.12.4"
  }
 },
 "nbformat": 4,
 "nbformat_minor": 5
}

{
 "cells": [
  {
   "cell_type": "code",
   "execution_count": 90,
   "id": "dd80d090-7a6a-4018-9b83-4d3e21834292",
   "metadata": {},
   "outputs": [],
   "source": [
    "import numpy as np "
   ]
  },
  {
   "cell_type": "code",
   "execution_count": 118,
   "id": "7a451070-a6a9-4c7a-9dce-e03a25506288",
   "metadata": {},
   "outputs": [],
   "source": [
    "a=np.arange(20,24).reshape(2,2)\n",
    "b=np.arange(30,34).reshape(2,2)"
   ]
  },
  {
   "cell_type": "code",
   "execution_count": 121,
   "id": "e55d14fe-b98e-477b-bde4-96756caf5466",
   "metadata": {},
   "outputs": [
    {
     "data": {
      "text/plain": [
       "array([[20, 21],\n",
       "       [22, 23]])"
      ]
     },
     "execution_count": 121,
     "metadata": {},
     "output_type": "execute_result"
    }
   ],
   "source": [
    "a"
   ]
  },
  {
   "cell_type": "code",
   "execution_count": 123,
   "id": "26fa86f5-9923-452c-bea9-83b5e5282577",
   "metadata": {},
   "outputs": [
    {
     "data": {
      "text/plain": [
       "array([[30, 31],\n",
       "       [32, 33]])"
      ]
     },
     "execution_count": 123,
     "metadata": {},
     "output_type": "execute_result"
    }
   ],
   "source": [
    "b"
   ]
  },
  {
   "cell_type": "code",
   "execution_count": 129,
   "id": "78db0aba-28b9-4593-8ef9-645fc30ffef4",
   "metadata": {},
   "outputs": [
    {
     "data": {
      "text/plain": [
       "array([[50, 52],\n",
       "       [54, 56]])"
      ]
     },
     "execution_count": 129,
     "metadata": {},
     "output_type": "execute_result"
    }
   ],
   "source": [
    "add=a+b\n",
    "add"
   ]
  },
  {
   "cell_type": "code",
   "execution_count": 141,
   "id": "58934967-9691-4422-9b22-72ba23ba86e2",
   "metadata": {},
   "outputs": [
    {
     "data": {
      "text/plain": [
       "array([[600, 651],\n",
       "       [704, 759]])"
      ]
     },
     "execution_count": 141,
     "metadata": {},
     "output_type": "execute_result"
    }
   ],
   "source": [
    "element_wise_mul=a*b\n",
    "element_wise_mul"
   ]
  },
  {
   "cell_type": "code",
   "execution_count": 143,
   "id": "641c286d-ad4c-417d-9a03-1fc316aefc0b",
   "metadata": {},
   "outputs": [
    {
     "data": {
      "text/plain": [
       "array([[1272, 1313],\n",
       "       [1396, 1441]])"
      ]
     },
     "execution_count": 143,
     "metadata": {},
     "output_type": "execute_result"
    }
   ],
   "source": [
    "dot_product = np.dot(a, b)\n",
    "dot_product"
   ]
  },
  {
   "cell_type": "code",
   "execution_count": 145,
   "id": "128e0a9b-2677-4ba0-97df-cf32f13b7abe",
   "metadata": {},
   "outputs": [
    {
     "data": {
      "text/plain": [
       "array([[1272, 1313],\n",
       "       [1396, 1441]])"
      ]
     },
     "execution_count": 145,
     "metadata": {},
     "output_type": "execute_result"
    }
   ],
   "source": [
    "matrix_mult = a @ b\n",
    "matrix_mult"
   ]
  },
  {
   "cell_type": "code",
   "execution_count": null,
   "id": "ebbe2db4-f5cd-4212-b9e4-6202e752eecf",
   "metadata": {},
   "outputs": [],
   "source": []
  }
 ],
 "metadata": {
  "kernelspec": {
   "display_name": "Python 3 (ipykernel)",
   "language": "python",
   "name": "python3"
  },
  "language_info": {
   "codemirror_mode": {
    "name": "ipython",
    "version": 3
   },
   "file_extension": ".py",
   "mimetype": "text/x-python",
   "name": "python",
   "nbconvert_exporter": "python",
   "pygments_lexer": "ipython3",
   "version": "3.12.4"
  }
 },
 "nbformat": 4,
 "nbformat_minor": 5
}

{
 "cells": [
  {
   "cell_type": "code",
   "execution_count": 0,
   "metadata": {
    "application/vnd.databricks.v1+cell": {
     "cellMetadata": {
      "byteLimit": 2048000,
      "rowLimit": 10000
     },
     "inputWidgets": {},
     "nuid": "185030fe-efa7-4191-b00f-dd05c63595d1",
     "showTitle": false,
     "tableResultSettingsMap": {},
     "title": ""
    }
   },
   "outputs": [
    {
     "output_type": "display_data",
     "data": {
      "text/html": [
       "<style scoped>\n",
       "  .table-result-container {\n",
       "    max-height: 300px;\n",
       "    overflow: auto;\n",
       "  }\n",
       "  table, th, td {\n",
       "    border: 1px solid black;\n",
       "    border-collapse: collapse;\n",
       "  }\n",
       "  th, td {\n",
       "    padding: 5px;\n",
       "  }\n",
       "  th {\n",
       "    text-align: left;\n",
       "  }\n",
       "</style><div class='table-result-container'><table class='table-result'><thead style='background-color: white'><tr><th>match_id</th><th>inning</th><th>batting_team</th><th>bowling_team</th><th>over</th><th>ball</th><th>batter</th><th>bowler</th><th>non_striker</th><th>batsman_runs</th><th>extra_runs</th><th>total_runs</th><th>extras_type</th><th>is_wicket</th><th>player_dismissed</th><th>dismissal_kind</th><th>fielder</th></tr></thead><tbody><tr><td>335982</td><td>1</td><td>Kolkata Knight Riders</td><td>Royal Challengers Bangalore</td><td>0</td><td>1</td><td>SC Ganguly</td><td>P Kumar</td><td>BB McCullum</td><td>0</td><td>1</td><td>1</td><td>legbyes</td><td>0</td><td>NA</td><td>NA</td><td>NA</td></tr><tr><td>335982</td><td>1</td><td>Kolkata Knight Riders</td><td>Royal Challengers Bangalore</td><td>0</td><td>2</td><td>BB McCullum</td><td>P Kumar</td><td>SC Ganguly</td><td>0</td><td>0</td><td>0</td><td>null</td><td>0</td><td>NA</td><td>NA</td><td>NA</td></tr><tr><td>335982</td><td>1</td><td>Kolkata Knight Riders</td><td>Royal Challengers Bangalore</td><td>0</td><td>3</td><td>BB McCullum</td><td>P Kumar</td><td>SC Ganguly</td><td>0</td><td>1</td><td>1</td><td>wides</td><td>0</td><td>NA</td><td>NA</td><td>NA</td></tr><tr><td>335982</td><td>1</td><td>Kolkata Knight Riders</td><td>Royal Challengers Bangalore</td><td>0</td><td>4</td><td>BB McCullum</td><td>P Kumar</td><td>SC Ganguly</td><td>0</td><td>0</td><td>0</td><td>null</td><td>0</td><td>NA</td><td>NA</td><td>NA</td></tr><tr><td>335982</td><td>1</td><td>Kolkata Knight Riders</td><td>Royal Challengers Bangalore</td><td>0</td><td>5</td><td>BB McCullum</td><td>P Kumar</td><td>SC Ganguly</td><td>0</td><td>0</td><td>0</td><td>null</td><td>0</td><td>NA</td><td>NA</td><td>NA</td></tr><tr><td>335982</td><td>1</td><td>Kolkata Knight Riders</td><td>Royal Challengers Bangalore</td><td>0</td><td>6</td><td>BB McCullum</td><td>P Kumar</td><td>SC Ganguly</td><td>0</td><td>0</td><td>0</td><td>null</td><td>0</td><td>NA</td><td>NA</td><td>NA</td></tr><tr><td>335982</td><td>1</td><td>Kolkata Knight Riders</td><td>Royal Challengers Bangalore</td><td>0</td><td>7</td><td>BB McCullum</td><td>P Kumar</td><td>SC Ganguly</td><td>0</td><td>1</td><td>1</td><td>legbyes</td><td>0</td><td>NA</td><td>NA</td><td>NA</td></tr><tr><td>335982</td><td>1</td><td>Kolkata Knight Riders</td><td>Royal Challengers Bangalore</td><td>1</td><td>1</td><td>BB McCullum</td><td>Z Khan</td><td>SC Ganguly</td><td>0</td><td>0</td><td>0</td><td>null</td><td>0</td><td>NA</td><td>NA</td><td>NA</td></tr><tr><td>335982</td><td>1</td><td>Kolkata Knight Riders</td><td>Royal Challengers Bangalore</td><td>1</td><td>2</td><td>BB McCullum</td><td>Z Khan</td><td>SC Ganguly</td><td>4</td><td>0</td><td>4</td><td>null</td><td>0</td><td>NA</td><td>NA</td><td>NA</td></tr><tr><td>335982</td><td>1</td><td>Kolkata Knight Riders</td><td>Royal Challengers Bangalore</td><td>1</td><td>3</td><td>BB McCullum</td><td>Z Khan</td><td>SC Ganguly</td><td>4</td><td>0</td><td>4</td><td>null</td><td>0</td><td>NA</td><td>NA</td><td>NA</td></tr></tbody></table></div>"
      ]
     },
     "metadata": {
      "application/vnd.databricks.v1+output": {
       "addedWidgets": {},
       "aggData": [],
       "aggError": "",
       "aggOverflow": false,
       "aggSchema": [],
       "aggSeriesLimitReached": false,
       "aggType": "",
       "arguments": {},
       "columnCustomDisplayInfos": {},
       "data": [
        [
         "335982",
         "1",
         "Kolkata Knight Riders",
         "Royal Challengers Bangalore",
         "0",
         "1",
         "SC Ganguly",
         "P Kumar",
         "BB McCullum",
         "0",
         "1",
         "1",
         "legbyes",
         "0",
         "NA",
         "NA",
         "NA"
        ],
        [
         "335982",
         "1",
         "Kolkata Knight Riders",
         "Royal Challengers Bangalore",
         "0",
         "2",
         "BB McCullum",
         "P Kumar",
         "SC Ganguly",
         "0",
         "0",
         "0",
         null,
         "0",
         "NA",
         "NA",
         "NA"
        ],
        [
         "335982",
         "1",
         "Kolkata Knight Riders",
         "Royal Challengers Bangalore",
         "0",
         "3",
         "BB McCullum",
         "P Kumar",
         "SC Ganguly",
         "0",
         "1",
         "1",
         "wides",
         "0",
         "NA",
         "NA",
         "NA"
        ],
        [
         "335982",
         "1",
         "Kolkata Knight Riders",
         "Royal Challengers Bangalore",
         "0",
         "4",
         "BB McCullum",
         "P Kumar",
         "SC Ganguly",
         "0",
         "0",
         "0",
         null,
         "0",
         "NA",
         "NA",
         "NA"
        ],
        [
         "335982",
         "1",
         "Kolkata Knight Riders",
         "Royal Challengers Bangalore",
         "0",
         "5",
         "BB McCullum",
         "P Kumar",
         "SC Ganguly",
         "0",
         "0",
         "0",
         null,
         "0",
         "NA",
         "NA",
         "NA"
        ],
        [
         "335982",
         "1",
         "Kolkata Knight Riders",
         "Royal Challengers Bangalore",
         "0",
         "6",
         "BB McCullum",
         "P Kumar",
         "SC Ganguly",
         "0",
         "0",
         "0",
         null,
         "0",
         "NA",
         "NA",
         "NA"
        ],
        [
         "335982",
         "1",
         "Kolkata Knight Riders",
         "Royal Challengers Bangalore",
         "0",
         "7",
         "BB McCullum",
         "P Kumar",
         "SC Ganguly",
         "0",
         "1",
         "1",
         "legbyes",
         "0",
         "NA",
         "NA",
         "NA"
        ],
        [
         "335982",
         "1",
         "Kolkata Knight Riders",
         "Royal Challengers Bangalore",
         "1",
         "1",
         "BB McCullum",
         "Z Khan",
         "SC Ganguly",
         "0",
         "0",
         "0",
         null,
         "0",
         "NA",
         "NA",
         "NA"
        ],
        [
         "335982",
         "1",
         "Kolkata Knight Riders",
         "Royal Challengers Bangalore",
         "1",
         "2",
         "BB McCullum",
         "Z Khan",
         "SC Ganguly",
         "4",
         "0",
         "4",
         null,
         "0",
         "NA",
         "NA",
         "NA"
        ],
        [
         "335982",
         "1",
         "Kolkata Knight Riders",
         "Royal Challengers Bangalore",
         "1",
         "3",
         "BB McCullum",
         "Z Khan",
         "SC Ganguly",
         "4",
         "0",
         "4",
         null,
         "0",
         "NA",
         "NA",
         "NA"
        ]
       ],
       "datasetInfos": [],
       "dbfsResultPath": null,
       "isJsonSchema": true,
       "metadata": {},
       "overflow": false,
       "plotOptions": {
        "customPlotOptions": {},
        "displayType": "table",
        "pivotAggregation": null,
        "pivotColumns": null,
        "xColumns": null,
        "yColumns": null
       },
       "removedWidgets": [],
       "schema": [
        {
         "metadata": "{}",
         "name": "match_id",
         "type": "\"string\""
        },
        {
         "metadata": "{}",
         "name": "inning",
         "type": "\"string\""
        },
        {
         "metadata": "{}",
         "name": "batting_team",
         "type": "\"string\""
        },
        {
         "metadata": "{}",
         "name": "bowling_team",
         "type": "\"string\""
        },
        {
         "metadata": "{}",
         "name": "over",
         "type": "\"string\""
        },
        {
         "metadata": "{}",
         "name": "ball",
         "type": "\"string\""
        },
        {
         "metadata": "{}",
         "name": "batter",
         "type": "\"string\""
        },
        {
         "metadata": "{}",
         "name": "bowler",
         "type": "\"string\""
        },
        {
         "metadata": "{}",
         "name": "non_striker",
         "type": "\"string\""
        },
        {
         "metadata": "{}",
         "name": "batsman_runs",
         "type": "\"string\""
        },
        {
         "metadata": "{}",
         "name": "extra_runs",
         "type": "\"string\""
        },
        {
         "metadata": "{}",
         "name": "total_runs",
         "type": "\"string\""
        },
        {
         "metadata": "{}",
         "name": "extras_type",
         "type": "\"string\""
        },
        {
         "metadata": "{}",
         "name": "is_wicket",
         "type": "\"string\""
        },
        {
         "metadata": "{}",
         "name": "player_dismissed",
         "type": "\"string\""
        },
        {
         "metadata": "{}",
         "name": "dismissal_kind",
         "type": "\"string\""
        },
        {
         "metadata": "{}",
         "name": "fielder",
         "type": "\"string\""
        }
       ],
       "type": "table"
      }
     },
     "output_type": "display_data"
    }
   ],
   "source": [
    "# Step 1: Read the CSV file into a DataFrame\n",
    "deliveries_df = spark.read.option(\"header\", True).csv(\"/FileStore/tables/deliveries.csv\")\n",
    "\n",
    "# Step 2: Write the DataFrame as a Delta table to a DBFS location\n",
    "deliveries_df.write.format(\"delta\").mode(\"overwrite\").save(\"/FileStore/tables/delta_deliveries\")\n",
    "\n",
    "# Step 3: Register the Delta table in the metastore to enable SQL queries\n",
    "spark.sql(\"DROP TABLE IF EXISTS deliveries_delta\")\n",
    "spark.sql(\"CREATE TABLE deliveries_delta USING DELTA LOCATION '/FileStore/tables/delta_deliveries'\")\n",
    "\n",
    "# Step 4: Verify the Delta table\n",
    "display(spark.sql(\"SELECT * FROM deliveries_delta LIMIT 10\"))\n",
    "\n"
   ]
  },
  {
   "cell_type": "code",
   "execution_count": 0,
   "metadata": {
    "application/vnd.databricks.v1+cell": {
     "cellMetadata": {},
     "inputWidgets": {},
     "nuid": "018efb6b-6021-4093-ba02-9577377d63ab",
     "showTitle": false,
     "tableResultSettingsMap": {},
     "title": ""
    }
   },
   "outputs": [],
   "source": []
  }
 ],
 "metadata": {
  "application/vnd.databricks.v1+notebook": {
   "computePreferences": null,
   "dashboards": [],
   "environmentMetadata": {
    "base_environment": "",
    "environment_version": "1"
   },
   "inputWidgetPreferences": null,
   "language": "python",
   "notebookMetadata": {
    "pythonIndentUnit": 4
   },
   "notebookName": "Delta Table",
   "widgets": {}
  }
 },
 "nbformat": 4,
 "nbformat_minor": 0
}
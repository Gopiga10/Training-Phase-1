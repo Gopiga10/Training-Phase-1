{
 "cells": [
  {
   "cell_type": "code",
   "execution_count": 89,
   "id": "071fc14d-2699-48b9-9595-a9bf4de72823",
   "metadata": {},
   "outputs": [],
   "source": [
    "import threading\n",
    "import logging\n",
    "import pandas as pd"
   ]
  },
  {
   "cell_type": "code",
   "execution_count": 91,
   "id": "e32fab80-0564-45ae-b562-f9c0e9e41dc1",
   "metadata": {},
   "outputs": [],
   "source": [
    "logging.basicConfig(filename=\"data_processing.log\", level=logging.INFO, format=\"%(asctime)s - %(message)s\")\n"
   ]
  },
  {
   "cell_type": "code",
   "execution_count": 105,
   "id": "a17ef211-2644-4881-bfe5-15dca2b7dbb3",
   "metadata": {},
   "outputs": [],
   "source": [
    "def process_dataset(file_path, column_name):\n",
    "    logging.info(f\"Starting processing for {file_path}...\")\n",
    "    try:\n",
    "        df = pd.read_csv(file_path)  # Load dataset\n",
    "        mean_value = df[column_name].mean()  # Calculate mean\n",
    "        logging.info(f\"Completed processing for {file_path}. Mean {column_name}: {mean_value}\")\n",
    "        print(f\"Mean {column_name} in {file_path}: {mean_value:.2f}\")  # Print result\n",
    "    except Exception as e:\n",
    "        logging.error(f\"Error processing {file_path}: {e}\")\n"
   ]
  },
  {
   "cell_type": "code",
   "execution_count": 107,
   "id": "df34c2e2-761b-48fc-b3db-ccf1c59c45c6",
   "metadata": {},
   "outputs": [],
   "source": [
    "house_price_file = \"House Price Prediction Dataset.csv\"\n",
    "titanic_file = \"Titanic-Dataset.csv\""
   ]
  },
  {
   "cell_type": "code",
   "execution_count": 109,
   "id": "367ad18d-520e-4e85-9bac-67fbadad086c",
   "metadata": {},
   "outputs": [],
   "source": [
    "house_column = \"Price\"\n",
    "titanic_column = \"Age\"\n",
    "\n"
   ]
  },
  {
   "cell_type": "code",
   "execution_count": 111,
   "id": "78a3af3d-bd9f-422e-aed1-906ba488aa42",
   "metadata": {},
   "outputs": [],
   "source": [
    "thread1 = threading.Thread(target=process_dataset, args=(house_price_file, house_column))\n",
    "thread2 = threading.Thread(target=process_dataset, args=(titanic_file, titanic_column))\n"
   ]
  },
  {
   "cell_type": "code",
   "execution_count": 113,
   "id": "382e3675-1389-4c3f-9843-3cc9fcd97057",
   "metadata": {},
   "outputs": [
    {
     "name": "stdout",
     "output_type": "stream",
     "text": [
      "Mean Price in House Price Prediction Dataset.csv: 537676.85\n",
      "Mean Age in Titanic-Dataset.csv: 29.70\n"
     ]
    }
   ],
   "source": [
    "thread1.start()\n",
    "thread2.start()"
   ]
  },
  {
   "cell_type": "code",
   "execution_count": 115,
   "id": "e4b23e7c-5183-40a3-82a6-469487f3685c",
   "metadata": {},
   "outputs": [],
   "source": [
    "thread1.join()\n",
    "thread2.join()"
   ]
  },
  {
   "cell_type": "code",
   "execution_count": 117,
   "id": "79329415-eac5-45b3-9335-2aa0dca2b9ad",
   "metadata": {},
   "outputs": [
    {
     "name": "stdout",
     "output_type": "stream",
     "text": [
      " Data Processing Completed. Check 'data_processing.log' for details.\n"
     ]
    }
   ],
   "source": [
    "print(\" Data Processing Completed. Check 'data_processing.log' for details.\")"
   ]
  },
  {
   "cell_type": "code",
   "execution_count": null,
   "id": "5eff615a-db4f-4831-84c4-d9b578b6754e",
   "metadata": {},
   "outputs": [],
   "source": []
  }
 ],
 "metadata": {
  "kernelspec": {
   "display_name": "Python 3 (ipykernel)",
   "language": "python",
   "name": "python3"
  },
  "language_info": {
   "codemirror_mode": {
    "name": "ipython",
    "version": 3
   },
   "file_extension": ".py",
   "mimetype": "text/x-python",
   "name": "python",
   "nbconvert_exporter": "python",
   "pygments_lexer": "ipython3",
   "version": "3.12.4"
  }
 },
 "nbformat": 4,
 "nbformat_minor": 5
}

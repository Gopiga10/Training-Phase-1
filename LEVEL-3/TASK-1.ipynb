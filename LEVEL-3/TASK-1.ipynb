{
 "cells": [
  {
   "cell_type": "code",
   "execution_count": 43,
   "id": "fdf3b83b-e70f-44f5-b34f-a8a14d2d00a0",
   "metadata": {},
   "outputs": [
    {
     "name": "stdin",
     "output_type": "stream",
     "text": [
      "enter a num : 4\n"
     ]
    },
    {
     "name": "stdout",
     "output_type": "stream",
     "text": [
      "division is not possible \n"
     ]
    }
   ],
   "source": [
    "try:\n",
    "    num=int(input(\"enter a num :\"))\n",
    "    result=num%0\n",
    "    print(num1)\n",
    "except ZeroDivisionError:\n",
    "    print(\"division is not possible \")"
   ]
  },
  {
   "cell_type": "code",
   "execution_count": null,
   "id": "dd303d97-0eda-440c-9722-dcf7d2c2cf1b",
   "metadata": {},
   "outputs": [],
   "source": []
  }
 ],
 "metadata": {
  "kernelspec": {
   "display_name": "Python 3 (ipykernel)",
   "language": "python",
   "name": "python3"
  },
  "language_info": {
   "codemirror_mode": {
    "name": "ipython",
    "version": 3
   },
   "file_extension": ".py",
   "mimetype": "text/x-python",
   "name": "python",
   "nbconvert_exporter": "python",
   "pygments_lexer": "ipython3",
   "version": "3.12.4"
  }
 },
 "nbformat": 4,
 "nbformat_minor": 5
}

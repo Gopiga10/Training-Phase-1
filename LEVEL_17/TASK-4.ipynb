{
 "cells": [
  {
   "cell_type": "code",
   "execution_count": 0,
   "metadata": {
    "application/vnd.databricks.v1+cell": {
     "cellMetadata": {
      "byteLimit": 2048000,
      "rowLimit": 10000
     },
     "inputWidgets": {},
     "nuid": "9ac732a1-440a-4a2c-b7d8-8fb6b74d58e3",
     "showTitle": false,
     "tableResultSettingsMap": {},
     "title": ""
    }
   },
   "outputs": [
    {
     "output_type": "stream",
     "name": "stdout",
     "output_type": "stream",
     "text": [
      "+-------------------------------+---------+-----------+----------+\n|commentary                     |Bowler   |Batsman    |No_of_runs|\n+-------------------------------+---------+-----------+----------+\n|P Kumar to SC Ganguly runs 0   |P Kumar  |SC Ganguly |0         |\n|P Kumar to BB McCullum runs 0  |P Kumar  |BB McCullum|0         |\n|P Kumar to BB McCullum runs 0  |P Kumar  |BB McCullum|0         |\n|P Kumar to BB McCullum runs 0  |P Kumar  |BB McCullum|0         |\n|P Kumar to BB McCullum runs 0  |P Kumar  |BB McCullum|0         |\n|P Kumar to BB McCullum runs 0  |P Kumar  |BB McCullum|0         |\n|P Kumar to BB McCullum runs 0  |P Kumar  |BB McCullum|0         |\n|Z Khan to BB McCullum runs 0   |Z Khan   |BB McCullum|0         |\n|Z Khan to BB McCullum runs 4   |Z Khan   |BB McCullum|4         |\n|Z Khan to BB McCullum runs 4   |Z Khan   |BB McCullum|4         |\n|Z Khan to BB McCullum runs 6   |Z Khan   |BB McCullum|6         |\n|Z Khan to BB McCullum runs 4   |Z Khan   |BB McCullum|4         |\n|Z Khan to BB McCullum runs 0   |Z Khan   |BB McCullum|0         |\n|P Kumar to SC Ganguly runs 0   |P Kumar  |SC Ganguly |0         |\n|P Kumar to SC Ganguly runs 0   |P Kumar  |SC Ganguly |0         |\n|P Kumar to SC Ganguly runs 0   |P Kumar  |SC Ganguly |0         |\n|P Kumar to BB McCullum runs 4  |P Kumar  |BB McCullum|4         |\n|P Kumar to BB McCullum runs 1  |P Kumar  |BB McCullum|1         |\n|P Kumar to SC Ganguly runs 0   |P Kumar  |SC Ganguly |0         |\n|AA Noffke to BB McCullum runs 0|AA Noffke|BB McCullum|0         |\n+-------------------------------+---------+-----------+----------+\nonly showing top 20 rows\n\n"
     ]
    }
   ],
   "source": [
    "from pyspark.sql import SparkSession\n",
    "from pyspark.sql.functions import col, concat_ws, lit\n",
    "spark = SparkSession.builder.appName(\"String Manipulation Task\").getOrCreate()\n",
    "deliveries_df = spark.read.csv(\"/FileStore/tables/deliveries.csv\", header=True, inferSchema=True)\n",
    "deliveries_with_commentary = deliveries_df.withColumn(\n",
    "    \"commentary\",\n",
    "    concat_ws(\" \", col(\"bowler\"), lit(\"to\"), col(\"batter\"), lit(\"runs\"), col(\"batsman_runs\"))\n",
    ")\n",
    "result_df = deliveries_with_commentary.select(\n",
    "    \"commentary\",\n",
    "    col(\"bowler\").alias(\"Bowler\"),\n",
    "    col(\"batter\").alias(\"Batsman\"),\n",
    "    col(\"batsman_runs\").alias(\"No_of_runs\")\n",
    ")\n",
    "\n",
    "result_df.show(truncate=False)\n"
   ]
  },
  {
   "cell_type": "code",
   "execution_count": 0,
   "metadata": {
    "application/vnd.databricks.v1+cell": {
     "cellMetadata": {},
     "inputWidgets": {},
     "nuid": "dea2bac6-57e5-47b3-9ce6-b4418057054f",
     "showTitle": false,
     "tableResultSettingsMap": {},
     "title": ""
    }
   },
   "outputs": [],
   "source": []
  }
 ],
 "metadata": {
  "application/vnd.databricks.v1+notebook": {
   "computePreferences": null,
   "dashboards": [],
   "environmentMetadata": {
    "base_environment": "",
    "environment_version": "1"
   },
   "inputWidgetPreferences": null,
   "language": "python",
   "notebookMetadata": {
    "pythonIndentUnit": 4
   },
   "notebookName": "String Manipulation",
   "widgets": {}
  }
 },
 "nbformat": 4,
 "nbformat_minor": 0
}
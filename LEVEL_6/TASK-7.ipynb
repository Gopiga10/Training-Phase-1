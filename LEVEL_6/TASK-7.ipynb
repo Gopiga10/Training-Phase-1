{
 "cells": [
  {
   "cell_type": "code",
   "execution_count": 52,
   "id": "6399e0e6-c7b7-4cf8-ad8a-cb014f2a32b6",
   "metadata": {},
   "outputs": [],
   "source": [
    "import pandas as pd \n",
    "import statistics"
   ]
  },
  {
   "cell_type": "code",
   "execution_count": 74,
   "id": "d781222a-cce3-48ce-9612-9d832508916d",
   "metadata": {},
   "outputs": [
    {
     "data": {
      "text/html": [
       "<div>\n",
       "<style scoped>\n",
       "    .dataframe tbody tr th:only-of-type {\n",
       "        vertical-align: middle;\n",
       "    }\n",
       "\n",
       "    .dataframe tbody tr th {\n",
       "        vertical-align: top;\n",
       "    }\n",
       "\n",
       "    .dataframe thead th {\n",
       "        text-align: right;\n",
       "    }\n",
       "</style>\n",
       "<table border=\"1\" class=\"dataframe\">\n",
       "  <thead>\n",
       "    <tr style=\"text-align: right;\">\n",
       "      <th></th>\n",
       "      <th>CustomerID</th>\n",
       "      <th>Gender</th>\n",
       "      <th>Age</th>\n",
       "      <th>Annual Income (k$)</th>\n",
       "      <th>Spending Score (1-100)</th>\n",
       "    </tr>\n",
       "  </thead>\n",
       "  <tbody>\n",
       "    <tr>\n",
       "      <th>0</th>\n",
       "      <td>1</td>\n",
       "      <td>Male</td>\n",
       "      <td>19</td>\n",
       "      <td>15</td>\n",
       "      <td>39</td>\n",
       "    </tr>\n",
       "    <tr>\n",
       "      <th>1</th>\n",
       "      <td>2</td>\n",
       "      <td>Male</td>\n",
       "      <td>21</td>\n",
       "      <td>15</td>\n",
       "      <td>81</td>\n",
       "    </tr>\n",
       "    <tr>\n",
       "      <th>2</th>\n",
       "      <td>3</td>\n",
       "      <td>Female</td>\n",
       "      <td>20</td>\n",
       "      <td>16</td>\n",
       "      <td>6</td>\n",
       "    </tr>\n",
       "    <tr>\n",
       "      <th>3</th>\n",
       "      <td>4</td>\n",
       "      <td>Female</td>\n",
       "      <td>23</td>\n",
       "      <td>16</td>\n",
       "      <td>77</td>\n",
       "    </tr>\n",
       "    <tr>\n",
       "      <th>4</th>\n",
       "      <td>5</td>\n",
       "      <td>Female</td>\n",
       "      <td>31</td>\n",
       "      <td>17</td>\n",
       "      <td>40</td>\n",
       "    </tr>\n",
       "  </tbody>\n",
       "</table>\n",
       "</div>"
      ],
      "text/plain": [
       "   CustomerID  Gender  Age  Annual Income (k$)  Spending Score (1-100)\n",
       "0           1    Male   19                  15                      39\n",
       "1           2    Male   21                  15                      81\n",
       "2           3  Female   20                  16                       6\n",
       "3           4  Female   23                  16                      77\n",
       "4           5  Female   31                  17                      40"
      ]
     },
     "execution_count": 74,
     "metadata": {},
     "output_type": "execute_result"
    }
   ],
   "source": [
    "data=pd.read_csv(\"Mall_Customers.csv\")\n",
    "data.head()"
   ]
  },
  {
   "cell_type": "code",
   "execution_count": 88,
   "id": "0546d26c-3dc5-4fe2-b8df-a81f842744b9",
   "metadata": {},
   "outputs": [
    {
     "name": "stdout",
     "output_type": "stream",
     "text": [
      "Annual Income (k$)\n"
     ]
    }
   ],
   "source": [
    "colname=\"Annual Income (k$)\"\n",
    "print(colname)"
   ]
  },
  {
   "cell_type": "code",
   "execution_count": 96,
   "id": "a5ea90d4-3d41-43b8-8212-eb7fe6106f8a",
   "metadata": {},
   "outputs": [],
   "source": [
    "val=data[colname].tolist()"
   ]
  },
  {
   "cell_type": "code",
   "execution_count": 106,
   "id": "919d0ab8-ba73-4cc6-ba27-4f67be9657cf",
   "metadata": {},
   "outputs": [
    {
     "data": {
      "text/plain": [
       "60.56"
      ]
     },
     "execution_count": 106,
     "metadata": {},
     "output_type": "execute_result"
    }
   ],
   "source": [
    "mean=data[\"Annual Income (k$)\"].mean()\n",
    "mean"
   ]
  },
  {
   "cell_type": "code",
   "execution_count": 108,
   "id": "540a7d01-da10-4a1a-b8b7-efabe4f7a96a",
   "metadata": {},
   "outputs": [
    {
     "data": {
      "text/plain": [
       "26.264721165271254"
      ]
     },
     "execution_count": 108,
     "metadata": {},
     "output_type": "execute_result"
    }
   ],
   "source": [
    "std=data[\"Annual Income (k$)\"].std()\n",
    "std"
   ]
  },
  {
   "cell_type": "code",
   "execution_count": 119,
   "id": "befd7a58-64f1-4785-a6c5-45023fbd3bcb",
   "metadata": {},
   "outputs": [
    {
     "name": "stdout",
     "output_type": "stream",
     "text": [
      "z_score: [-1.7346462470822683, -1.7346462470822683, -1.6965723610620254, -1.6965723610620254, -1.6584984750417824]\n"
     ]
    }
   ],
   "source": [
    "x=values\n",
    "z_score= [(X-mean)/std for X in values]\n",
    "print(\"z_score:\",z_score[:5])"
   ]
  },
  {
   "cell_type": "code",
   "execution_count": null,
   "id": "f381b2af-2511-4375-94fb-7598e30ee6ff",
   "metadata": {},
   "outputs": [],
   "source": []
  }
 ],
 "metadata": {
  "kernelspec": {
   "display_name": "Python 3 (ipykernel)",
   "language": "python",
   "name": "python3"
  },
  "language_info": {
   "codemirror_mode": {
    "name": "ipython",
    "version": 3
   },
   "file_extension": ".py",
   "mimetype": "text/x-python",
   "name": "python",
   "nbconvert_exporter": "python",
   "pygments_lexer": "ipython3",
   "version": "3.12.4"
  }
 },
 "nbformat": 4,
 "nbformat_minor": 5
}

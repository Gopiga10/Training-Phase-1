{
 "cells": [
  {
   "cell_type": "code",
   "execution_count": 74,
   "id": "20357f7c-fdd7-40d0-b093-b587fa6b2c08",
   "metadata": {},
   "outputs": [],
   "source": [
    "import numpy as np\n",
    "from scipy.stats import t"
   ]
  },
  {
   "cell_type": "code",
   "execution_count": 76,
   "id": "5e05d48f-7ed4-4cad-89c7-532b271674e8",
   "metadata": {},
   "outputs": [],
   "source": [
    "sample = [50, 52, 48, 47, 53, 49, 51, 50, 52, 48]\n",
    "n = len(sample)  \n",
    "sample_mean = np.mean(sample)  \n",
    "sample_std = np.std(sample, ddof=1)  \n",
    "pop_mean = 50"
   ]
  },
  {
   "cell_type": "code",
   "execution_count": 78,
   "id": "2a0df815-29cb-4f11-a26f-e472a9cb1a5e",
   "metadata": {},
   "outputs": [
    {
     "name": "stdout",
     "output_type": "stream",
     "text": [
      "10\n",
      "50.0\n",
      "2.0\n"
     ]
    }
   ],
   "source": [
    "print(n)\n",
    "print(sample_mean)\n",
    "print(sample_std)"
   ]
  },
  {
   "cell_type": "code",
   "execution_count": 80,
   "id": "57a61584-93d7-48b6-a323-e0079101751c",
   "metadata": {},
   "outputs": [],
   "source": [
    "t_score = (sample_mean - pop_mean) / (sample_std / np.sqrt(n))"
   ]
  },
  {
   "cell_type": "code",
   "execution_count": 82,
   "id": "7894b497-8369-4b5a-84e7-cf9f2f8a629c",
   "metadata": {},
   "outputs": [],
   "source": [
    "p_value = 2 * (1 - t.cdf(abs(t_score), df=n-1))"
   ]
  },
  {
   "cell_type": "code",
   "execution_count": 86,
   "id": "2c52fed1-9083-4c44-bc17-577bdb407cfd",
   "metadata": {},
   "outputs": [],
   "source": [
    "alpha = 0.05 \n",
    "decision = \"Reject the null hypothesis. The sample mean is significantly different.\" if p_value < alpha else \"Fail to reject the null hypothesis. No significant difference.\""
   ]
  },
  {
   "cell_type": "code",
   "execution_count": 88,
   "id": "05dd42f2-756d-4734-8a21-6ec7c9cbb53f",
   "metadata": {},
   "outputs": [
    {
     "name": "stdout",
     "output_type": "stream",
     "text": [
      "T-score: 0.000\n",
      "P-value: 1.000\n",
      "Decision: Fail to reject the null hypothesis. No significant difference.\n"
     ]
    }
   ],
   "source": [
    "print(f\"T-score: {t_score:.3f}\")\n",
    "print(f\"P-value: {p_value:.3f}\")\n",
    "print(f\"Decision: {decision}\")"
   ]
  },
  {
   "cell_type": "code",
   "execution_count": null,
   "id": "41b2fd78-81c1-47c6-af7a-197b7e41df29",
   "metadata": {},
   "outputs": [],
   "source": []
  }
 ],
 "metadata": {
  "kernelspec": {
   "display_name": "Python 3 (ipykernel)",
   "language": "python",
   "name": "python3"
  },
  "language_info": {
   "codemirror_mode": {
    "name": "ipython",
    "version": 3
   },
   "file_extension": ".py",
   "mimetype": "text/x-python",
   "name": "python",
   "nbconvert_exporter": "python",
   "pygments_lexer": "ipython3",
   "version": "3.12.4"
  }
 },
 "nbformat": 4,
 "nbformat_minor": 5
}

{
 "cells": [
  {
   "cell_type": "code",
   "execution_count": 0,
   "metadata": {
    "application/vnd.databricks.v1+cell": {
     "cellMetadata": {
      "byteLimit": 2048000,
      "rowLimit": 10000
     },
     "inputWidgets": {},
     "nuid": "fcec2f66-6e65-4ed3-b4a8-06eb4e09bbb0",
     "showTitle": false,
     "tableResultSettingsMap": {},
     "title": ""
    }
   },
   "outputs": [
    {
     "output_type": "stream",
     "name": "stdout",
     "output_type": "stream",
     "text": [
      "DataFrame[match_id: int, inning: int, batting_team: string, bowling_team: string, over: int, ball: int, batter: string, bowler: string, non_striker: string, batsman_runs: int, extra_runs: int, total_runs: int, extras_type: string, is_wicket: int, player_dismissed: string, dismissal_kind: string, fielder: string]\n+--------+------+--------------------+--------------------+----+----+-----------+-------+-----------+------------+----------+----------+-----------+---------+----------------+--------------+-------+\n|match_id|inning|        batting_team|        bowling_team|over|ball|     batter| bowler|non_striker|batsman_runs|extra_runs|total_runs|extras_type|is_wicket|player_dismissed|dismissal_kind|fielder|\n+--------+------+--------------------+--------------------+----+----+-----------+-------+-----------+------------+----------+----------+-----------+---------+----------------+--------------+-------+\n|  335982|     1|Kolkata Knight Ri...|Royal Challengers...|   0|   1| SC Ganguly|P Kumar|BB McCullum|           0|         1|         1|    legbyes|        0|              NA|            NA|     NA|\n|  335982|     1|Kolkata Knight Ri...|Royal Challengers...|   0|   2|BB McCullum|P Kumar| SC Ganguly|           0|         0|         0|       null|        0|              NA|            NA|     NA|\n|  335982|     1|Kolkata Knight Ri...|Royal Challengers...|   0|   3|BB McCullum|P Kumar| SC Ganguly|           0|         1|         1|      wides|        0|              NA|            NA|     NA|\n|  335982|     1|Kolkata Knight Ri...|Royal Challengers...|   0|   4|BB McCullum|P Kumar| SC Ganguly|           0|         0|         0|       null|        0|              NA|            NA|     NA|\n|  335982|     1|Kolkata Knight Ri...|Royal Challengers...|   0|   5|BB McCullum|P Kumar| SC Ganguly|           0|         0|         0|       null|        0|              NA|            NA|     NA|\n+--------+------+--------------------+--------------------+----+----+-----------+-------+-----------+------------+----------+----------+-----------+---------+----------------+--------------+-------+\nonly showing top 5 rows\n\n=== SIMPLE MODE ===\n== Physical Plan ==\nFileScan csv [match_id#2227,inning#2228,batting_team#2229,bowling_team#2230,over#2231,ball#2232,batter#2233,bowler#2234,non_striker#2235,batsman_runs#2236,extra_runs#2237,total_runs#2238,extras_type#2239,is_wicket#2240,player_dismissed#2241,dismissal_kind#2242,fielder#2243] Batched: false, DataFilters: [], Format: CSV, Location: InMemoryFileIndex(1 paths)[dbfs:/FileStore/tables/deliveries.csv], PartitionFilters: [], PushedFilters: [], ReadSchema: struct<match_id:int,inning:int,batting_team:string,bowling_team:string,over:int,ball:int,batter:s...\n\n\n\n=== EXTENDED MODE ===\n== Parsed Logical Plan ==\nRelation [match_id#2227,inning#2228,batting_team#2229,bowling_team#2230,over#2231,ball#2232,batter#2233,bowler#2234,non_striker#2235,batsman_runs#2236,extra_runs#2237,total_runs#2238,extras_type#2239,is_wicket#2240,player_dismissed#2241,dismissal_kind#2242,fielder#2243] csv\n\n== Analyzed Logical Plan ==\nmatch_id: int, inning: int, batting_team: string, bowling_team: string, over: int, ball: int, batter: string, bowler: string, non_striker: string, batsman_runs: int, extra_runs: int, total_runs: int, extras_type: string, is_wicket: int, player_dismissed: string, dismissal_kind: string, fielder: string\nRelation [match_id#2227,inning#2228,batting_team#2229,bowling_team#2230,over#2231,ball#2232,batter#2233,bowler#2234,non_striker#2235,batsman_runs#2236,extra_runs#2237,total_runs#2238,extras_type#2239,is_wicket#2240,player_dismissed#2241,dismissal_kind#2242,fielder#2243] csv\n\n== Optimized Logical Plan ==\nRelation [match_id#2227,inning#2228,batting_team#2229,bowling_team#2230,over#2231,ball#2232,batter#2233,bowler#2234,non_striker#2235,batsman_runs#2236,extra_runs#2237,total_runs#2238,extras_type#2239,is_wicket#2240,player_dismissed#2241,dismissal_kind#2242,fielder#2243] csv\n\n== Physical Plan ==\nFileScan csv [match_id#2227,inning#2228,batting_team#2229,bowling_team#2230,over#2231,ball#2232,batter#2233,bowler#2234,non_striker#2235,batsman_runs#2236,extra_runs#2237,total_runs#2238,extras_type#2239,is_wicket#2240,player_dismissed#2241,dismissal_kind#2242,fielder#2243] Batched: false, DataFilters: [], Format: CSV, Location: InMemoryFileIndex(1 paths)[dbfs:/FileStore/tables/deliveries.csv], PartitionFilters: [], PushedFilters: [], ReadSchema: struct<match_id:int,inning:int,batting_team:string,bowling_team:string,over:int,ball:int,batter:s...\n\n\n=== CODEGEN MODE ===\nFound 0 WholeStageCodegen subtrees.\n\n\n=== COST MODE ===\n== Optimized Logical Plan ==\nRelation [match_id#2227,inning#2228,batting_team#2229,bowling_team#2230,over#2231,ball#2232,batter#2233,bowler#2234,non_striker#2235,batsman_runs#2236,extra_runs#2237,total_runs#2238,extras_type#2239,is_wicket#2240,player_dismissed#2241,dismissal_kind#2242,fielder#2243] csv, Statistics(sizeInBytes=25.8 MiB)\n\n== Physical Plan ==\nFileScan csv [match_id#2227,inning#2228,batting_team#2229,bowling_team#2230,over#2231,ball#2232,batter#2233,bowler#2234,non_striker#2235,batsman_runs#2236,extra_runs#2237,total_runs#2238,extras_type#2239,is_wicket#2240,player_dismissed#2241,dismissal_kind#2242,fielder#2243] Batched: false, DataFilters: [], Format: CSV, Location: InMemoryFileIndex(1 paths)[dbfs:/FileStore/tables/deliveries.csv], PartitionFilters: [], PushedFilters: [], ReadSchema: struct<match_id:int,inning:int,batting_team:string,bowling_team:string,over:int,ball:int,batter:s...\n\n\n\n=== FORMATTED MODE ===\n== Physical Plan ==\nScan csv  (1)\n\n\n(1) Scan csv \nOutput [17]: [match_id#2227, inning#2228, batting_team#2229, bowling_team#2230, over#2231, ball#2232, batter#2233, bowler#2234, non_striker#2235, batsman_runs#2236, extra_runs#2237, total_runs#2238, extras_type#2239, is_wicket#2240, player_dismissed#2241, dismissal_kind#2242, fielder#2243]\nBatched: false\nLocation: InMemoryFileIndex [dbfs:/FileStore/tables/deliveries.csv]\nReadSchema: struct<match_id:int,inning:int,batting_team:string,bowling_team:string,over:int,ball:int,batter:string,bowler:string,non_striker:string,batsman_runs:int,extra_runs:int,total_runs:int,extras_type:string,is_wicket:int,player_dismissed:string,dismissal_kind:string,fielder:string>\n\n\n"
     ]
    }
   ],
   "source": [
    "deliveries_df = spark.read.csv(\"/FileStore/tables/deliveries.csv\", header=True, inferSchema=True)\n",
    "print(deliveries_df)  \n",
    "deliveries_df.show(5) \n",
    "print(\"=== SIMPLE MODE ===\")\n",
    "deliveries_df.explain(mode=\"simple\")\n",
    "\n",
    "print(\"\\n=== EXTENDED MODE ===\")\n",
    "deliveries_df.explain(mode=\"extended\")\n",
    "\n",
    "print(\"\\n=== CODEGEN MODE ===\")\n",
    "deliveries_df.explain(mode=\"codegen\")\n",
    "\n",
    "print(\"\\n=== COST MODE ===\")\n",
    "deliveries_df.explain(mode=\"cost\")\n",
    "\n",
    "print(\"\\n=== FORMATTED MODE ===\")\n",
    "deliveries_df.explain(mode=\"formatted\")\n"
   ]
  },
  {
   "cell_type": "code",
   "execution_count": 0,
   "metadata": {
    "application/vnd.databricks.v1+cell": {
     "cellMetadata": {},
     "inputWidgets": {},
     "nuid": "676c6a48-420e-40f4-af05-15322c06d4e7",
     "showTitle": false,
     "tableResultSettingsMap": {},
     "title": ""
    }
   },
   "outputs": [],
   "source": []
  }
 ],
 "metadata": {
  "application/vnd.databricks.v1+notebook": {
   "computePreferences": null,
   "dashboards": [],
   "environmentMetadata": {
    "base_environment": "",
    "environment_version": "1"
   },
   "inputWidgetPreferences": null,
   "language": "python",
   "notebookMetadata": {
    "pythonIndentUnit": 4
   },
   "notebookName": "Lazy Evaluation",
   "widgets": {}
  }
 },
 "nbformat": 4,
 "nbformat_minor": 0
}
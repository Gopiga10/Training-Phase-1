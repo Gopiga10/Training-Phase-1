{
 "cells": [
  {
   "cell_type": "code",
   "execution_count": 0,
   "metadata": {
    "application/vnd.databricks.v1+cell": {
     "cellMetadata": {
      "byteLimit": 2048000,
      "rowLimit": 10000
     },
     "inputWidgets": {},
     "nuid": "186852cd-8524-491e-bfb6-d12c79389822",
     "showTitle": false,
     "tableResultSettingsMap": {},
     "title": ""
    }
   },
   "outputs": [
    {
     "output_type": "stream",
     "name": "stdout",
     "output_type": "stream",
     "text": [
      " Pivot Table: Average Score\n+---------------------------+------------------+------------------+------------------+------------------+------------------+------------------+------------------+------------------+------------------+------------------+------------------+------------------+------------------+------------------+------------------+------------------+------------------+\n|batting_team               |2007/08           |2009              |2009/10           |2011              |2012              |2013              |2014              |2015              |2016              |2017              |2018              |2019              |2020/21           |2021              |2022              |2023              |2024              |\n+---------------------------+------------------+------------------+------------------+------------------+------------------+------------------+------------------+------------------+------------------+------------------+------------------+------------------+------------------+------------------+------------------+------------------+------------------+\n|Chennai Super Kings        |157.5             |159.35714285714286|162.75            |160.0             |157.27777777777777|154.33333333333334|165.625           |160.2941176470588 |null              |null              |175.5625          |145.47058823529412|156.5             |170.8125          |163.42857142857142|180.8             |180.28571428571428|\n|Deccan Chargers            |159.21428571428572|150.5             |148.375           |152.85714285714286|154.13333333333333|null              |null              |null              |null              |null              |null              |null              |null              |null              |null              |null              |null              |\n|Delhi Capitals             |null              |null              |null              |null              |null              |null              |null              |null              |null              |null              |null              |158.0625          |163.52941176470588|155.9375          |167.21428571428572|155.85714285714286|183.78571428571428|\n|Delhi Daredevils           |151.28571428571428|142.06666666666666|153.92857142857142|149.07142857142858|146.94444444444446|140.3125          |148.64285714285714|154.85714285714286|150.28571428571428|158.5             |167.35714285714286|null              |null              |null              |null              |null              |null              |\n|Gujarat Lions              |null              |null              |null              |null              |null              |null              |null              |null              |153.125           |172.28571428571428|null              |null              |null              |null              |null              |null              |null              |\n|Gujarat Titans             |null              |null              |null              |null              |null              |null              |null              |null              |null              |null              |null              |null              |null              |null              |166.4375          |179.64705882352942|170.0             |\n|Kings XI Punjab            |164.26666666666668|137.71428571428572|163.42857142857142|158.85714285714286|149.375           |151.75            |175.7058823529412 |144.14285714285714|152.42857142857142|157.64285714285714|157.85714285714286|173.5             |168.35714285714286|null              |null              |null              |null              |\n|Kochi Tuskers Kerala       |null              |null              |null              |135.78571428571428|null              |null              |null              |null              |null              |null              |null              |null              |null              |null              |null              |null              |null              |\n|Kolkata Knight Riders      |149.3846153846154 |136.30769230769232|153.14285714285714|134.86666666666667|147.2941176470588 |143.125           |156.1875          |157.23076923076923|150.86666666666667|155.25            |172.4375          |176.64285714285714|158.71428571428572|150.52941176470588|158.78571428571428|175.92857142857142|190.5             |\n|Lucknow Super Giants       |null              |null              |null              |null              |null              |null              |null              |null              |null              |null              |null              |null              |null              |null              |169.86666666666667|165.26666666666668|177.35714285714286|\n|Mumbai Indians             |148.57142857142858|145.92307692307693|171.125           |143.0             |144.8235294117647 |156.57894736842104|156.86666666666667|170.875           |156.71428571428572|164.7058823529412 |170.0             |166.875           |172.375           |151.21428571428572|158.35714285714286|184.0625          |183.42857142857142|\n|Pune Warriors              |null              |null              |null              |136.53846153846155|145.0625          |141.375           |null              |null              |null              |null              |null              |null              |null              |null              |null              |null              |null              |\n|Punjab Kings               |null              |null              |null              |null              |null              |null              |null              |null              |null              |null              |null              |null              |null              |153.57142857142858|167.35714285714286|182.57142857142858|177.64285714285714|\n|Rajasthan Royals           |162.5625          |131.23076923076923|155.64285714285714|129.76923076923077|157.25            |150.27777777777777|154.71428571428572|164.84615384615384|null              |null              |157.13333333333333|156.71428571428572|163.42857142857142|156.85714285714286|173.11764705882354|172.78571428571428|176.46666666666667|\n|Rising Pune Supergiant     |null              |null              |null              |null              |null              |null              |null              |null              |null              |154.375           |null              |null              |null              |null              |null              |null              |null              |\n|Rising Pune Supergiants    |null              |null              |null              |null              |null              |null              |null              |null              |147.35714285714286|null              |null              |null              |null              |null              |null              |null              |null              |\n|Royal Challengers Bangalore|141.64285714285714|142.5             |150.0625          |154.3125          |164.8             |162.5625          |149.5             |144.4375          |186.3125          |141.92307692307693|165.85714285714286|157.71428571428572|152.6             |153.53333333333333|164.5             |178.71428571428572|null              |\n|Royal Challengers Bengaluru|null              |null              |null              |null              |null              |null              |null              |null              |null              |null              |null              |null              |null              |null              |null              |null              |195.33333333333334|\n|Sunrisers Hyderabad        |null              |null              |null              |null              |null              |136.35294117647058|150.14285714285714|157.85714285714286|157.23529411764707|167.78571428571428|160.05882352941177|163.86666666666667|158.1875          |148.85714285714286|156.92857142857142|169.71428571428572|190.75            |\n+---------------------------+------------------+------------------+------------------+------------------+------------------+------------------+------------------+------------------+------------------+------------------+------------------+------------------+------------------+------------------+------------------+------------------+------------------+\n\n Pivot Table: Max Score\n+---------------------------+-------+----+-------+----+----+----+----+----+----+----+----+----+-------+----+----+----+----+\n|batting_team               |2007/08|2009|2009/10|2011|2012|2013|2014|2015|2016|2017|2018|2019|2020/21|2021|2022|2023|2024|\n+---------------------------+-------+----+-------+----+----+----+----+----+----+----+----+----+-------+----+----+----+----+\n|Chennai Super Kings        |240    |188 |246    |205 |222 |223 |205 |209 |null|null|211 |179 |200    |220 |216 |235 |212 |\n|Deccan Chargers            |214    |184 |190    |198 |196 |null|null|null|null|null|null|null|null   |null|null|null|null|\n|Delhi Capitals             |null   |null|null   |null|null|null|null|null|null|null|null|213 |228    |198 |215 |213 |257 |\n|Delhi Daredevils           |194    |189 |188    |231 |207 |179 |180 |190 |192 |214 |219 |null|null   |null|null|null|null|\n|Gujarat Lions              |null   |null|null   |null|null|null|null|null|196 |208 |null|null|null   |null|null|null|null|\n|Gujarat Titans             |null   |null|null   |null|null|null|null|null|null|null|null|null|null   |null|199 |233 |231 |\n|Kings XI Punjab            |221    |174 |204    |232 |194 |194 |231 |206 |181 |230 |214 |197 |223    |null|null|null|null|\n|Kochi Tuskers Kerala       |null   |null|null   |184 |null|null|null|null|null|null|null|null|null   |null|null|null|null|\n|Kolkata Knight Riders      |222    |189 |200    |175 |192 |186 |200 |190 |189 |187 |245 |232 |210    |202 |210 |207 |272 |\n|Lucknow Super Giants       |null   |null|null   |null|null|null|null|null|null|null|null|null|null   |null|211 |257 |214 |\n|Mumbai Indians             |202    |187 |218    |182 |197 |209 |195 |209 |206 |223 |213 |198 |208    |235 |190 |218 |247 |\n|Pune Warriors              |null   |null|null   |187 |192 |185 |null|null|null|null|null|null|null   |null|null|null|null|\n|Punjab Kings               |null   |null|null   |null|null|null|null|null|null|null|null|null|null   |221 |209 |214 |262 |\n|Rajasthan Royals           |217    |211 |223    |159 |197 |185 |201 |199 |null|null|217 |198 |226    |220 |222 |214 |224 |\n|Rising Pune Supergiant     |null   |null|null   |null|null|null|null|null|null|187 |null|null|null   |null|null|null|null|\n|Rising Pune Supergiants    |null   |null|null   |null|null|null|null|null|195 |null|null|null|null   |null|null|null|null|\n|Royal Challengers Bangalore|181    |176 |204    |205 |215 |263 |190 |235 |248 |213 |218 |213 |212    |204 |207 |218 |null|\n|Royal Challengers Bengaluru|null   |null|null   |null|null|null|null|null|null|null|null|null|null   |null|null|null|262 |\n|Sunrisers Hyderabad        |null   |null|null   |null|null|178 |205 |201 |208 |209 |204 |231 |219    |193 |195 |228 |287 |\n+---------------------------+-------+----+-------+----+----+----+----+----+----+----+----+----+-------+----+----+----+----+\n\n"
     ]
    }
   ],
   "source": [
    "matches_df = spark.read.csv(\"/FileStore/tables/matches.csv\", header=True, inferSchema=True)\n",
    "deliveries_df = spark.read.csv(\"/FileStore/tables/deliveries.csv\", header=True, inferSchema=True)\n",
    "deliveries_with_year_df = deliveries_df.join(\n",
    "    matches_df,\n",
    "    deliveries_df.match_id == matches_df.id,\n",
    "    how=\"inner\"\n",
    ")\n",
    "from pyspark.sql.functions import sum as spark_sum, avg, max as spark_max\n",
    "\n",
    "runs_per_match_df = deliveries_with_year_df.groupBy(\n",
    "    \"season\", \"batting_team\", \"match_id\"\n",
    ").agg(\n",
    "    spark_sum(\"total_runs\").alias(\"total_runs_in_match\")\n",
    ")\n",
    "average_score_pivot = runs_per_match_df.groupBy(\"batting_team\").pivot(\"season\").agg(\n",
    "    avg(\"total_runs_in_match\")\n",
    ").orderBy(\"batting_team\")\n",
    "\n",
    "print(\" Pivot Table: Average Score\")\n",
    "average_score_pivot.show(truncate=False)\n",
    "max_score_pivot = runs_per_match_df.groupBy(\"batting_team\").pivot(\"season\").agg(\n",
    "    spark_max(\"total_runs_in_match\")\n",
    ").orderBy(\"batting_team\")\n",
    "\n",
    "print(\" Pivot Table: Max Score\")\n",
    "max_score_pivot.show(truncate=False)\n"
   ]
  },
  {
   "cell_type": "code",
   "execution_count": 0,
   "metadata": {
    "application/vnd.databricks.v1+cell": {
     "cellMetadata": {},
     "inputWidgets": {},
     "nuid": "e7487994-f6e7-46ea-a3b2-1f55daefe64c",
     "showTitle": false,
     "tableResultSettingsMap": {},
     "title": ""
    }
   },
   "outputs": [],
   "source": []
  }
 ],
 "metadata": {
  "application/vnd.databricks.v1+notebook": {
   "computePreferences": null,
   "dashboards": [],
   "environmentMetadata": {
    "base_environment": "",
    "environment_version": "1"
   },
   "inputWidgetPreferences": null,
   "language": "python",
   "notebookMetadata": {
    "pythonIndentUnit": 4
   },
   "notebookName": "Pivot",
   "widgets": {}
  }
 },
 "nbformat": 4,
 "nbformat_minor": 0
}
{
 "cells": [
  {
   "cell_type": "code",
   "execution_count": 215,
   "id": "e359b649-431e-4bce-8727-d3c3dbae3d12",
   "metadata": {},
   "outputs": [],
   "source": [
    "import pandas as pd\n",
    "import statistics\n",
    "from scipy.stats import zscore"
   ]
  },
  {
   "cell_type": "code",
   "execution_count": 217,
   "id": "4f66ae3a-7631-4190-8c33-c906fc76704e",
   "metadata": {},
   "outputs": [
    {
     "data": {
      "text/html": [
       "<div>\n",
       "<style scoped>\n",
       "    .dataframe tbody tr th:only-of-type {\n",
       "        vertical-align: middle;\n",
       "    }\n",
       "\n",
       "    .dataframe tbody tr th {\n",
       "        vertical-align: top;\n",
       "    }\n",
       "\n",
       "    .dataframe thead th {\n",
       "        text-align: right;\n",
       "    }\n",
       "</style>\n",
       "<table border=\"1\" class=\"dataframe\">\n",
       "  <thead>\n",
       "    <tr style=\"text-align: right;\">\n",
       "      <th></th>\n",
       "      <th>CustomerID</th>\n",
       "      <th>Gender</th>\n",
       "      <th>Age</th>\n",
       "      <th>Annual Income (k$)</th>\n",
       "      <th>Spending Score (1-100)</th>\n",
       "    </tr>\n",
       "  </thead>\n",
       "  <tbody>\n",
       "    <tr>\n",
       "      <th>0</th>\n",
       "      <td>1</td>\n",
       "      <td>Male</td>\n",
       "      <td>19</td>\n",
       "      <td>15</td>\n",
       "      <td>39</td>\n",
       "    </tr>\n",
       "    <tr>\n",
       "      <th>1</th>\n",
       "      <td>2</td>\n",
       "      <td>Male</td>\n",
       "      <td>21</td>\n",
       "      <td>15</td>\n",
       "      <td>81</td>\n",
       "    </tr>\n",
       "    <tr>\n",
       "      <th>2</th>\n",
       "      <td>3</td>\n",
       "      <td>Female</td>\n",
       "      <td>20</td>\n",
       "      <td>16</td>\n",
       "      <td>6</td>\n",
       "    </tr>\n",
       "    <tr>\n",
       "      <th>3</th>\n",
       "      <td>4</td>\n",
       "      <td>Female</td>\n",
       "      <td>23</td>\n",
       "      <td>16</td>\n",
       "      <td>77</td>\n",
       "    </tr>\n",
       "    <tr>\n",
       "      <th>4</th>\n",
       "      <td>5</td>\n",
       "      <td>Female</td>\n",
       "      <td>31</td>\n",
       "      <td>17</td>\n",
       "      <td>40</td>\n",
       "    </tr>\n",
       "  </tbody>\n",
       "</table>\n",
       "</div>"
      ],
      "text/plain": [
       "   CustomerID  Gender  Age  Annual Income (k$)  Spending Score (1-100)\n",
       "0           1    Male   19                  15                      39\n",
       "1           2    Male   21                  15                      81\n",
       "2           3  Female   20                  16                       6\n",
       "3           4  Female   23                  16                      77\n",
       "4           5  Female   31                  17                      40"
      ]
     },
     "execution_count": 217,
     "metadata": {},
     "output_type": "execute_result"
    }
   ],
   "source": [
    "data = pd.read_csv(\"Mall_Customers.csv\")\n",
    "data.head()"
   ]
  },
  {
   "cell_type": "code",
   "execution_count": 219,
   "id": "c43def05-6e49-44f5-85b5-74c9b35b93e4",
   "metadata": {},
   "outputs": [],
   "source": [
    "column_name = \"Annual Income (k$)\"  "
   ]
  },
  {
   "cell_type": "code",
   "execution_count": 221,
   "id": "3ce38802-6a27-4ddb-9c1c-00deb40fea46",
   "metadata": {},
   "outputs": [],
   "source": [
    "values = data[column_name].tolist()"
   ]
  },
  {
   "cell_type": "code",
   "execution_count": 223,
   "id": "7e054d0c-72d2-4bca-a7d6-9d2cf38cf8fb",
   "metadata": {},
   "outputs": [],
   "source": [
    "mean = statistics.mean(values)\n",
    "std_dev = statistics.stdev(values)"
   ]
  },
  {
   "cell_type": "code",
   "execution_count": 225,
   "id": "81d61d30-f869-49e4-a666-b9a3a5ed2047",
   "metadata": {},
   "outputs": [],
   "source": [
    "z_scores = [(x - mean) / std_dev for x in values]"
   ]
  },
  {
   "cell_type": "code",
   "execution_count": 237,
   "id": "561e655f-ce6b-4fa9-94a5-987b8e6578ad",
   "metadata": {},
   "outputs": [],
   "source": [
    "threshold = 2.5 \n",
    "outliers = [values[i] for i in range(len(values)) if abs(z_scores[i]) > threshold]"
   ]
  },
  {
   "cell_type": "code",
   "execution_count": 239,
   "id": "d691180e-27ed-48fe-8566-d7e9a2d292fe",
   "metadata": {},
   "outputs": [
    {
     "name": "stdout",
     "output_type": "stream",
     "text": [
      "Mean: 60.56\n",
      "Standard Deviation: 26.26\n",
      "Z-score Threshold: 2.5\n",
      "Outliers (Z-score > 2.5): [137, 137]\n"
     ]
    }
   ],
   "source": [
    "print(f\"Mean: {mean:.2f}\")\n",
    "print(f\"Standard Deviation: {std_dev:.2f}\")\n",
    "print(f\"Z-score Threshold: {threshold}\")\n",
    "print(f\"Outliers (Z-score > {threshold}): {outliers}\")"
   ]
  },
  {
   "cell_type": "code",
   "execution_count": null,
   "id": "7cce5b13-1710-4faa-a834-5fd72fbe56ee",
   "metadata": {},
   "outputs": [],
   "source": []
  }
 ],
 "metadata": {
  "kernelspec": {
   "display_name": "Python 3 (ipykernel)",
   "language": "python",
   "name": "python3"
  },
  "language_info": {
   "codemirror_mode": {
    "name": "ipython",
    "version": 3
   },
   "file_extension": ".py",
   "mimetype": "text/x-python",
   "name": "python",
   "nbconvert_exporter": "python",
   "pygments_lexer": "ipython3",
   "version": "3.12.4"
  }
 },
 "nbformat": 4,
 "nbformat_minor": 5
}

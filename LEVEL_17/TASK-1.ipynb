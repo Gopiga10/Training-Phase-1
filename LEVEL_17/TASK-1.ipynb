{
 "cells": [
  {
   "cell_type": "code",
   "execution_count": 0,
   "metadata": {
    "application/vnd.databricks.v1+cell": {
     "cellMetadata": {
      "byteLimit": 2048000,
      "rowLimit": 10000
     },
     "inputWidgets": {},
     "nuid": "bd004bba-038c-422e-9936-818580aef18e",
     "showTitle": false,
     "tableResultSettingsMap": {},
     "title": ""
    }
   },
   "outputs": [
    {
     "output_type": "stream",
     "name": "stdout",
     "output_type": "stream",
     "text": [
      "root\n |-- id: integer (nullable = true)\n |-- season: string (nullable = true)\n |-- city: string (nullable = true)\n |-- date: date (nullable = true)\n |-- match_type: string (nullable = true)\n |-- player_of_match: string (nullable = true)\n |-- venue: string (nullable = true)\n |-- team1: string (nullable = true)\n |-- team2: string (nullable = true)\n |-- toss_winner: string (nullable = true)\n |-- toss_decision: string (nullable = true)\n |-- winner: string (nullable = true)\n |-- result: string (nullable = true)\n |-- result_margin: string (nullable = true)\n |-- target_runs: string (nullable = true)\n |-- target_overs: string (nullable = true)\n |-- super_over: string (nullable = true)\n |-- method: string (nullable = true)\n |-- umpire1: string (nullable = true)\n |-- umpire2: string (nullable = true)\n\n+----------+\n|date      |\n+----------+\n|2008-04-18|\n|2008-04-19|\n|2008-04-19|\n|2008-04-20|\n|2008-04-20|\n+----------+\nonly showing top 5 rows\n\n+----------+----------+----------+\n|date      |match_date|match_time|\n+----------+----------+----------+\n|2008-04-18|2008-04-18|null      |\n|2008-04-19|2008-04-19|null      |\n|2008-04-19|2008-04-19|null      |\n|2008-04-20|2008-04-20|null      |\n|2008-04-20|2008-04-20|null      |\n|2008-04-21|2008-04-21|null      |\n|2008-04-22|2008-04-22|null      |\n|2008-04-23|2008-04-23|null      |\n|2008-04-24|2008-04-24|null      |\n|2008-04-25|2008-04-25|null      |\n+----------+----------+----------+\nonly showing top 10 rows\n\n"
     ]
    }
   ],
   "source": [
    "from pyspark.sql.functions import split\n",
    "matches_df = spark.read.csv(\"/FileStore/tables/matches.csv\", header=True, inferSchema=True)\n",
    "matches_df.printSchema()\n",
    "matches_df.select(\"date\").show(5, truncate=False)\n",
    "matches_split_df = matches_df.withColumn(\"match_date\", split(matches_df[\"date\"], \" \")[0]) \\\n",
    "                             .withColumn(\"match_time\", split(matches_df[\"date\"], \" \")[1])\n",
    "matches_split_df.select(\"date\", \"match_date\", \"match_time\").show(10, truncate=False)\n"
   ]
  },
  {
   "cell_type": "code",
   "execution_count": 0,
   "metadata": {
    "application/vnd.databricks.v1+cell": {
     "cellMetadata": {},
     "inputWidgets": {},
     "nuid": "8faf0fdb-995b-4d40-856f-5077731fdf0a",
     "showTitle": false,
     "tableResultSettingsMap": {},
     "title": ""
    }
   },
   "outputs": [],
   "source": []
  }
 ],
 "metadata": {
  "application/vnd.databricks.v1+notebook": {
   "computePreferences": null,
   "dashboards": [],
   "environmentMetadata": {
    "base_environment": "",
    "environment_version": "1"
   },
   "inputWidgetPreferences": null,
   "language": "python",
   "notebookMetadata": {
    "pythonIndentUnit": 4
   },
   "notebookName": "Date and Time",
   "widgets": {}
  }
 },
 "nbformat": 4,
 "nbformat_minor": 0
}
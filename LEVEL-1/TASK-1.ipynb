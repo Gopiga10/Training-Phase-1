{
 "cells": [
  {
   "cell_type": "code",
   "execution_count": 28,
   "id": "97decce6-0f7c-4c51-b189-349b6a911fe2",
   "metadata": {},
   "outputs": [],
   "source": [
    "lst=[2,3,4,5,67,88]\n",
    "lst.append(45)"
   ]
  },
  {
   "cell_type": "code",
   "execution_count": 30,
   "id": "ddbc6e56-2e68-4fe3-abc3-7221a97dcfd3",
   "metadata": {},
   "outputs": [
    {
     "data": {
      "text/plain": [
       "[2, 3, 4, 5, 67, 88, 45]"
      ]
     },
     "execution_count": 30,
     "metadata": {},
     "output_type": "execute_result"
    }
   ],
   "source": [
    "lst"
   ]
  },
  {
   "cell_type": "code",
   "execution_count": 32,
   "id": "7751fe72-2f2e-4a2d-a882-1e0b0e72d7b7",
   "metadata": {},
   "outputs": [
    {
     "data": {
      "text/plain": [
       "[2, 3, 4, 5, 67, 88, 45, 55, 66, 77, 23]"
      ]
     },
     "execution_count": 32,
     "metadata": {},
     "output_type": "execute_result"
    }
   ],
   "source": [
    "lst.extend([55,66,77,23])\n",
    "lst"
   ]
  },
  {
   "cell_type": "code",
   "execution_count": 34,
   "id": "667b4f64-3ef9-4770-a13f-2179a39a148c",
   "metadata": {},
   "outputs": [
    {
     "data": {
      "text/plain": [
       "88"
      ]
     },
     "execution_count": 34,
     "metadata": {},
     "output_type": "execute_result"
    }
   ],
   "source": [
    "lst[5]"
   ]
  },
  {
   "cell_type": "code",
   "execution_count": 36,
   "id": "d5ea1eeb-13b9-4d39-a6cf-e4838d547b48",
   "metadata": {},
   "outputs": [
    {
     "data": {
      "text/plain": [
       "[2, 3, 4, 5, 67, 22, 45, 55, 66, 77, 23]"
      ]
     },
     "execution_count": 36,
     "metadata": {},
     "output_type": "execute_result"
    }
   ],
   "source": [
    "lst[5]=22\n",
    "lst"
   ]
  },
  {
   "cell_type": "code",
   "execution_count": 38,
   "id": "1ef16d0c-1279-4c89-8dc6-25548950187c",
   "metadata": {},
   "outputs": [
    {
     "data": {
      "text/plain": [
       "list"
      ]
     },
     "execution_count": 38,
     "metadata": {},
     "output_type": "execute_result"
    }
   ],
   "source": [
    "type(lst)"
   ]
  },
  {
   "cell_type": "code",
   "execution_count": 40,
   "id": "4e813922-66f4-4d1c-b0a9-aca35b9dfe6d",
   "metadata": {},
   "outputs": [
    {
     "name": "stdout",
     "output_type": "stream",
     "text": [
      "<class 'set'>\n",
      "<class 'set'>\n"
     ]
    }
   ],
   "source": [
    "set1={1,4,5,7,8,90}\n",
    "set2={12,55,23,89,77,5}\n",
    "print(type(set1))\n",
    "print(type(set2))"
   ]
  },
  {
   "cell_type": "code",
   "execution_count": 42,
   "id": "d286dcb1-8c6c-4340-bca4-edecdcb5abe3",
   "metadata": {},
   "outputs": [
    {
     "data": {
      "text/plain": [
       "{1, 4, 5, 7, 8, 12, 23, 55, 77, 89, 90}"
      ]
     },
     "execution_count": 42,
     "metadata": {},
     "output_type": "execute_result"
    }
   ],
   "source": [
    "set1.union(set2)"
   ]
  },
  {
   "cell_type": "code",
   "execution_count": 44,
   "id": "926ab6c9-4e1a-4d41-8e2f-92291eeaaadd",
   "metadata": {},
   "outputs": [
    {
     "data": {
      "text/plain": [
       "{5}"
      ]
     },
     "execution_count": 44,
     "metadata": {},
     "output_type": "execute_result"
    }
   ],
   "source": [
    "set2.intersection(set1)"
   ]
  },
  {
   "cell_type": "code",
   "execution_count": 46,
   "id": "41d53cbb-9a45-4af5-ac69-2e3a2d21e1d8",
   "metadata": {},
   "outputs": [
    {
     "data": {
      "text/plain": [
       "{1, 4, 5, 7, 8, 90, 100}"
      ]
     },
     "execution_count": 46,
     "metadata": {},
     "output_type": "execute_result"
    }
   ],
   "source": [
    "set1.add(100)\n",
    "set1"
   ]
  },
  {
   "cell_type": "code",
   "execution_count": 48,
   "id": "cf6b83b8-f9d4-4319-9308-024a0ed24ff9",
   "metadata": {},
   "outputs": [
    {
     "data": {
      "text/plain": [
       "23"
      ]
     },
     "execution_count": 48,
     "metadata": {},
     "output_type": "execute_result"
    }
   ],
   "source": [
    "set2.pop()"
   ]
  },
  {
   "cell_type": "code",
   "execution_count": 50,
   "id": "e7960577-9f03-4e87-9899-189f25ef9d3f",
   "metadata": {},
   "outputs": [
    {
     "data": {
      "text/plain": [
       "{5, 12, 55, 77, 89}"
      ]
     },
     "execution_count": 50,
     "metadata": {},
     "output_type": "execute_result"
    }
   ],
   "source": [
    "set2"
   ]
  },
  {
   "cell_type": "code",
   "execution_count": 52,
   "id": "ef6fa942-3252-47ee-a16c-9af56504fb8d",
   "metadata": {},
   "outputs": [
    {
     "data": {
      "text/plain": [
       "tuple"
      ]
     },
     "execution_count": 52,
     "metadata": {},
     "output_type": "execute_result"
    }
   ],
   "source": [
    "tuple=(10,20,30,40,50,60,60)\n",
    "type(tuple)"
   ]
  },
  {
   "cell_type": "code",
   "execution_count": 54,
   "id": "5dc1824f-3384-4e7d-8cdd-3972835d3297",
   "metadata": {},
   "outputs": [
    {
     "data": {
      "text/plain": [
       "2"
      ]
     },
     "execution_count": 54,
     "metadata": {},
     "output_type": "execute_result"
    }
   ],
   "source": [
    "tuple.count(60)"
   ]
  },
  {
   "cell_type": "code",
   "execution_count": 56,
   "id": "e3deab06-87d7-4ebd-aaed-a1d273643f30",
   "metadata": {},
   "outputs": [
    {
     "data": {
      "text/plain": [
       "60"
      ]
     },
     "execution_count": 56,
     "metadata": {},
     "output_type": "execute_result"
    }
   ],
   "source": [
    "tuple[5]"
   ]
  },
  {
   "cell_type": "code",
   "execution_count": 58,
   "id": "9c3b6c48-39f4-4210-aa80-1c97c014d251",
   "metadata": {},
   "outputs": [
    {
     "data": {
      "text/plain": [
       "(40, 50, 60)"
      ]
     },
     "execution_count": 58,
     "metadata": {},
     "output_type": "execute_result"
    }
   ],
   "source": [
    "tuple[3:6]"
   ]
  },
  {
   "cell_type": "code",
   "execution_count": 60,
   "id": "466db3a7-5c4b-49cf-818a-c7854b08af67",
   "metadata": {},
   "outputs": [
    {
     "data": {
      "text/plain": [
       "{'raj': 'python', 'sri': 'java', 'fahid': 'reactjs'}"
      ]
     },
     "execution_count": 60,
     "metadata": {},
     "output_type": "execute_result"
    }
   ],
   "source": [
    "dict={\"raj\":\"python\",\"sri\":\"java\",\"fahid\":\"reactjs\"}\n",
    "dict"
   ]
  },
  {
   "cell_type": "code",
   "execution_count": 62,
   "id": "dfe566fc-cb1c-49dc-9de2-37e42eec871e",
   "metadata": {},
   "outputs": [
    {
     "name": "stdout",
     "output_type": "stream",
     "text": [
      "raj\n",
      "sri\n",
      "fahid\n"
     ]
    }
   ],
   "source": [
    "for i in dict:\n",
    "    print(i)"
   ]
  },
  {
   "cell_type": "code",
   "execution_count": 64,
   "id": "20897b77-893b-48aa-84ed-c4f4eb4c6d01",
   "metadata": {},
   "outputs": [
    {
     "name": "stdout",
     "output_type": "stream",
     "text": [
      "python\n",
      "java\n",
      "reactjs\n",
      "('raj', 'python')\n",
      "('sri', 'java')\n",
      "('fahid', 'reactjs')\n"
     ]
    }
   ],
   "source": [
    "for i in dict.values():\n",
    "    print(i)\n",
    "\n",
    "for i in dict.items():\n",
    "    print(i)"
   ]
  },
  {
   "cell_type": "code",
   "execution_count": 66,
   "id": "d0213b75-8fbe-4152-a596-3e5f18420f66",
   "metadata": {},
   "outputs": [
    {
     "data": {
      "text/plain": [
       "'reactjs'"
      ]
     },
     "execution_count": 66,
     "metadata": {},
     "output_type": "execute_result"
    }
   ],
   "source": [
    "dict[\"fahid\"]"
   ]
  },
  {
   "cell_type": "code",
   "execution_count": 68,
   "id": "31ea7bf0-bf16-403d-8543-e6b7cce57a3b",
   "metadata": {},
   "outputs": [],
   "source": [
    "dict[\"fazil\"]=\"c++\""
   ]
  },
  {
   "cell_type": "code",
   "execution_count": 70,
   "id": "ddf80afa-1438-4a16-a9f5-0cdb74933730",
   "metadata": {},
   "outputs": [
    {
     "data": {
      "text/plain": [
       "{'raj': 'python', 'sri': 'java', 'fahid': 'reactjs', 'fazil': 'c++'}"
      ]
     },
     "execution_count": 70,
     "metadata": {},
     "output_type": "execute_result"
    }
   ],
   "source": [
    "dict"
   ]
  },
  {
   "cell_type": "code",
   "execution_count": null,
   "id": "85adc66a-d895-4ef1-8894-8c6d0920a875",
   "metadata": {},
   "outputs": [],
   "source": []
  }
 ],
 "metadata": {
  "kernelspec": {
   "display_name": "Python 3 (ipykernel)",
   "language": "python",
   "name": "python3"
  },
  "language_info": {
   "codemirror_mode": {
    "name": "ipython",
    "version": 3
   },
   "file_extension": ".py",
   "mimetype": "text/x-python",
   "name": "python",
   "nbconvert_exporter": "python",
   "pygments_lexer": "ipython3",
   "version": "3.12.4"
  }
 },
 "nbformat": 4,
 "nbformat_minor": 5
}

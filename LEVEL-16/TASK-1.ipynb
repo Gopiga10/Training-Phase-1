{
 "cells": [
  {
   "cell_type": "code",
   "execution_count": 0,
   "metadata": {
    "application/vnd.databricks.v1+cell": {
     "cellMetadata": {
      "byteLimit": 2048000,
      "rowLimit": 10000
     },
     "inputWidgets": {},
     "nuid": "8eaf407c-9f75-4962-b02a-ac59e8be23fb",
     "showTitle": false,
     "tableResultSettingsMap": {},
     "title": ""
    }
   },
   "outputs": [],
   "source": [
    "# Read deliveries.csv\n",
    "deliveries_df = spark.read.option(\"header\", True).csv(\"/FileStore/tables/deliveries.csv\")\n",
    "\n",
    "# Read matches.csv\n",
    "matches_df = spark.read.option(\"header\", True).csv(\"/FileStore/tables/matches.csv\")\n"
   ]
  },
  {
   "cell_type": "code",
   "execution_count": 0,
   "metadata": {
    "application/vnd.databricks.v1+cell": {
     "cellMetadata": {
      "byteLimit": 2048000,
      "rowLimit": 10000
     },
     "inputWidgets": {},
     "nuid": "22d97245-5742-4c0c-bcb2-5fbc9ea06064",
     "showTitle": false,
     "tableResultSettingsMap": {},
     "title": ""
    }
   },
   "outputs": [
    {
     "output_type": "stream",
     "name": "stdout",
     "output_type": "stream",
     "text": [
      "+--------+------+--------------------+--------------------+----+----+-----------+-------+-----------+------------+----------+----------+-----------+---------+----------------+--------------+-------+\n|match_id|inning|        batting_team|        bowling_team|over|ball|     batter| bowler|non_striker|batsman_runs|extra_runs|total_runs|extras_type|is_wicket|player_dismissed|dismissal_kind|fielder|\n+--------+------+--------------------+--------------------+----+----+-----------+-------+-----------+------------+----------+----------+-----------+---------+----------------+--------------+-------+\n|  335982|     1|Kolkata Knight Ri...|Royal Challengers...|   0|   1| SC Ganguly|P Kumar|BB McCullum|           0|         1|         1|    legbyes|        0|              NA|            NA|     NA|\n|  335982|     1|Kolkata Knight Ri...|Royal Challengers...|   0|   2|BB McCullum|P Kumar| SC Ganguly|           0|         0|         0|       null|        0|              NA|            NA|     NA|\n|  335982|     1|Kolkata Knight Ri...|Royal Challengers...|   0|   3|BB McCullum|P Kumar| SC Ganguly|           0|         1|         1|      wides|        0|              NA|            NA|     NA|\n|  335982|     1|Kolkata Knight Ri...|Royal Challengers...|   0|   4|BB McCullum|P Kumar| SC Ganguly|           0|         0|         0|       null|        0|              NA|            NA|     NA|\n|  335982|     1|Kolkata Knight Ri...|Royal Challengers...|   0|   5|BB McCullum|P Kumar| SC Ganguly|           0|         0|         0|       null|        0|              NA|            NA|     NA|\n+--------+------+--------------------+--------------------+----+----+-----------+-------+-----------+------------+----------+----------+-----------+---------+----------------+--------------+-------+\nonly showing top 5 rows\n\n+------+-------+----------+----------+----------+---------------+--------------------+--------------------+--------------------+--------------------+-------------+--------------------+-------+-------------+-----------+------------+----------+------+---------+--------------+\n|    id| season|      city|      date|match_type|player_of_match|               venue|               team1|               team2|         toss_winner|toss_decision|              winner| result|result_margin|target_runs|target_overs|super_over|method|  umpire1|       umpire2|\n+------+-------+----------+----------+----------+---------------+--------------------+--------------------+--------------------+--------------------+-------------+--------------------+-------+-------------+-----------+------------+----------+------+---------+--------------+\n|335982|2007/08| Bangalore|2008-04-18|    League|    BB McCullum|M Chinnaswamy Sta...|Royal Challengers...|Kolkata Knight Ri...|Royal Challengers...|        field|Kolkata Knight Ri...|   runs|          140|        223|          20|         N|    NA|Asad Rauf|   RE Koertzen|\n|335983|2007/08|Chandigarh|2008-04-19|    League|     MEK Hussey|Punjab Cricket As...|     Kings XI Punjab| Chennai Super Kings| Chennai Super Kings|          bat| Chennai Super Kings|   runs|           33|        241|          20|         N|    NA|MR Benson|    SL Shastri|\n|335984|2007/08|     Delhi|2008-04-19|    League|    MF Maharoof|    Feroz Shah Kotla|    Delhi Daredevils|    Rajasthan Royals|    Rajasthan Royals|          bat|    Delhi Daredevils|wickets|            9|        130|          20|         N|    NA|Aleem Dar|GA Pratapkumar|\n|335985|2007/08|    Mumbai|2008-04-20|    League|     MV Boucher|    Wankhede Stadium|      Mumbai Indians|Royal Challengers...|      Mumbai Indians|          bat|Royal Challengers...|wickets|            5|        166|          20|         N|    NA| SJ Davis|     DJ Harper|\n|335986|2007/08|   Kolkata|2008-04-20|    League|      DJ Hussey|        Eden Gardens|Kolkata Knight Ri...|     Deccan Chargers|     Deccan Chargers|          bat|Kolkata Knight Ri...|wickets|            5|        111|          20|         N|    NA|BF Bowden|   K Hariharan|\n+------+-------+----------+----------+----------+---------------+--------------------+--------------------+--------------------+--------------------+-------------+--------------------+-------+-------------+-----------+------------+----------+------+---------+--------------+\nonly showing top 5 rows\n\n"
     ]
    }
   ],
   "source": [
    "# Show first few rows of deliveries\n",
    "deliveries_df.show(5)\n",
    "\n",
    "# Show first few rows of matches\n",
    "matches_df.show(5)\n"
   ]
  },
  {
   "cell_type": "code",
   "execution_count": 0,
   "metadata": {
    "application/vnd.databricks.v1+cell": {
     "cellMetadata": {
      "byteLimit": 2048000,
      "rowLimit": 10000
     },
     "inputWidgets": {},
     "nuid": "f03b6df2-5280-43b3-aeb8-99e9c730f6fa",
     "showTitle": false,
     "tableResultSettingsMap": {},
     "title": ""
    }
   },
   "outputs": [
    {
     "output_type": "stream",
     "name": "stdout",
     "output_type": "stream",
     "text": [
      "root\n |-- match_id: string (nullable = true)\n |-- inning: string (nullable = true)\n |-- batting_team: string (nullable = true)\n |-- bowling_team: string (nullable = true)\n |-- over: string (nullable = true)\n |-- ball: string (nullable = true)\n |-- batter: string (nullable = true)\n |-- bowler: string (nullable = true)\n |-- non_striker: string (nullable = true)\n |-- batsman_runs: string (nullable = true)\n |-- extra_runs: string (nullable = true)\n |-- total_runs: string (nullable = true)\n |-- extras_type: string (nullable = true)\n |-- is_wicket: string (nullable = true)\n |-- player_dismissed: string (nullable = true)\n |-- dismissal_kind: string (nullable = true)\n |-- fielder: string (nullable = true)\n\nroot\n |-- id: string (nullable = true)\n |-- season: string (nullable = true)\n |-- city: string (nullable = true)\n |-- date: string (nullable = true)\n |-- match_type: string (nullable = true)\n |-- player_of_match: string (nullable = true)\n |-- venue: string (nullable = true)\n |-- team1: string (nullable = true)\n |-- team2: string (nullable = true)\n |-- toss_winner: string (nullable = true)\n |-- toss_decision: string (nullable = true)\n |-- winner: string (nullable = true)\n |-- result: string (nullable = true)\n |-- result_margin: string (nullable = true)\n |-- target_runs: string (nullable = true)\n |-- target_overs: string (nullable = true)\n |-- super_over: string (nullable = true)\n |-- method: string (nullable = true)\n |-- umpire1: string (nullable = true)\n |-- umpire2: string (nullable = true)\n\n"
     ]
    }
   ],
   "source": [
    "deliveries_df.printSchema()\n",
    "matches_df.printSchema()\n"
   ]
  },
  {
   "cell_type": "code",
   "execution_count": 0,
   "metadata": {
    "application/vnd.databricks.v1+cell": {
     "cellMetadata": {
      "byteLimit": 2048000,
      "rowLimit": 10000
     },
     "inputWidgets": {},
     "nuid": "a8202868-2357-4b41-acda-0310189fa807",
     "showTitle": false,
     "tableResultSettingsMap": {},
     "title": ""
    }
   },
   "outputs": [
    {
     "output_type": "stream",
     "name": "stdout",
     "output_type": "stream",
     "text": [
      "+--------+------+------------+------------+-----+-----+------+------+-----------+------------+----------+----------+-----------+---------+----------------+--------------+-------+\n|match_id|inning|batting_team|bowling_team| over| ball|batter|bowler|non_striker|batsman_runs|extra_runs|total_runs|extras_type|is_wicket|player_dismissed|dismissal_kind|fielder|\n+--------+------+------------+------------+-----+-----+------+------+-----------+------------+----------+----------+-----------+---------+----------------+--------------+-------+\n|   false| false|       false|       false|false|false| false| false|      false|       false|     false|     false|      false|    false|           false|         false|  false|\n|   false| false|       false|       false|false|false| false| false|      false|       false|     false|     false|       true|    false|           false|         false|  false|\n|   false| false|       false|       false|false|false| false| false|      false|       false|     false|     false|      false|    false|           false|         false|  false|\n|   false| false|       false|       false|false|false| false| false|      false|       false|     false|     false|       true|    false|           false|         false|  false|\n|   false| false|       false|       false|false|false| false| false|      false|       false|     false|     false|       true|    false|           false|         false|  false|\n|   false| false|       false|       false|false|false| false| false|      false|       false|     false|     false|       true|    false|           false|         false|  false|\n|   false| false|       false|       false|false|false| false| false|      false|       false|     false|     false|      false|    false|           false|         false|  false|\n|   false| false|       false|       false|false|false| false| false|      false|       false|     false|     false|       true|    false|           false|         false|  false|\n|   false| false|       false|       false|false|false| false| false|      false|       false|     false|     false|       true|    false|           false|         false|  false|\n|   false| false|       false|       false|false|false| false| false|      false|       false|     false|     false|       true|    false|           false|         false|  false|\n|   false| false|       false|       false|false|false| false| false|      false|       false|     false|     false|       true|    false|           false|         false|  false|\n|   false| false|       false|       false|false|false| false| false|      false|       false|     false|     false|       true|    false|           false|         false|  false|\n|   false| false|       false|       false|false|false| false| false|      false|       false|     false|     false|       true|    false|           false|         false|  false|\n|   false| false|       false|       false|false|false| false| false|      false|       false|     false|     false|       true|    false|           false|         false|  false|\n|   false| false|       false|       false|false|false| false| false|      false|       false|     false|     false|       true|    false|           false|         false|  false|\n|   false| false|       false|       false|false|false| false| false|      false|       false|     false|     false|      false|    false|           false|         false|  false|\n|   false| false|       false|       false|false|false| false| false|      false|       false|     false|     false|       true|    false|           false|         false|  false|\n|   false| false|       false|       false|false|false| false| false|      false|       false|     false|     false|       true|    false|           false|         false|  false|\n|   false| false|       false|       false|false|false| false| false|      false|       false|     false|     false|       true|    false|           false|         false|  false|\n|   false| false|       false|       false|false|false| false| false|      false|       false|     false|     false|      false|    false|           false|         false|  false|\n+--------+------+------------+------------+-----+-----+------+------+-----------+------------+----------+----------+-----------+---------+----------------+--------------+-------+\nonly showing top 20 rows\n\n+-----+------+-----+-----+----------+---------------+-----+-----+-----+-----------+-------------+------+------+-------------+-----------+------------+----------+------+-------+-------+\n|   id|season| city| date|match_type|player_of_match|venue|team1|team2|toss_winner|toss_decision|winner|result|result_margin|target_runs|target_overs|super_over|method|umpire1|umpire2|\n+-----+------+-----+-----+----------+---------------+-----+-----+-----+-----------+-------------+------+------+-------------+-----------+------------+----------+------+-------+-------+\n|false| false|false|false|     false|          false|false|false|false|      false|        false| false| false|        false|      false|       false|     false| false|  false|  false|\n|false| false|false|false|     false|          false|false|false|false|      false|        false| false| false|        false|      false|       false|     false| false|  false|  false|\n|false| false|false|false|     false|          false|false|false|false|      false|        false| false| false|        false|      false|       false|     false| false|  false|  false|\n|false| false|false|false|     false|          false|false|false|false|      false|        false| false| false|        false|      false|       false|     false| false|  false|  false|\n|false| false|false|false|     false|          false|false|false|false|      false|        false| false| false|        false|      false|       false|     false| false|  false|  false|\n|false| false|false|false|     false|          false|false|false|false|      false|        false| false| false|        false|      false|       false|     false| false|  false|  false|\n|false| false|false|false|     false|          false|false|false|false|      false|        false| false| false|        false|      false|       false|     false| false|  false|  false|\n|false| false|false|false|     false|          false|false|false|false|      false|        false| false| false|        false|      false|       false|     false| false|  false|  false|\n|false| false|false|false|     false|          false|false|false|false|      false|        false| false| false|        false|      false|       false|     false| false|  false|  false|\n|false| false|false|false|     false|          false|false|false|false|      false|        false| false| false|        false|      false|       false|     false| false|  false|  false|\n|false| false|false|false|     false|          false|false|false|false|      false|        false| false| false|        false|      false|       false|     false| false|  false|  false|\n|false| false|false|false|     false|          false|false|false|false|      false|        false| false| false|        false|      false|       false|     false| false|  false|  false|\n|false| false|false|false|     false|          false|false|false|false|      false|        false| false| false|        false|      false|       false|     false| false|  false|  false|\n|false| false|false|false|     false|          false|false|false|false|      false|        false| false| false|        false|      false|       false|     false| false|  false|  false|\n|false| false|false|false|     false|          false|false|false|false|      false|        false| false| false|        false|      false|       false|     false| false|  false|  false|\n|false| false|false|false|     false|          false|false|false|false|      false|        false| false| false|        false|      false|       false|     false| false|  false|  false|\n|false| false|false|false|     false|          false|false|false|false|      false|        false| false| false|        false|      false|       false|     false| false|  false|  false|\n|false| false|false|false|     false|          false|false|false|false|      false|        false| false| false|        false|      false|       false|     false| false|  false|  false|\n|false| false|false|false|     false|          false|false|false|false|      false|        false| false| false|        false|      false|       false|     false| false|  false|  false|\n|false| false|false|false|     false|          false|false|false|false|      false|        false| false| false|        false|      false|       false|     false| false|  false|  false|\n+-----+------+-----+-----+----------+---------------+-----+-----+-----+-----------+-------------+------+------+-------------+-----------+------------+----------+------+-------+-------+\nonly showing top 20 rows\n\n"
     ]
    }
   ],
   "source": [
    "# Check for nulls\n",
    "from pyspark.sql.functions import col\n",
    "\n",
    "deliveries_df.select([col(c).isNull().alias(c) for c in deliveries_df.columns]).show()\n",
    "matches_df.select([col(c).isNull().alias(c) for c in matches_df.columns]).show()\n"
   ]
  },
  {
   "cell_type": "code",
   "execution_count": 0,
   "metadata": {
    "application/vnd.databricks.v1+cell": {
     "cellMetadata": {
      "byteLimit": 2048000,
      "rowLimit": 10000
     },
     "inputWidgets": {},
     "nuid": "3da0722a-b75c-4f70-a6e5-ae552c8f7455",
     "showTitle": false,
     "tableResultSettingsMap": {},
     "title": ""
    }
   },
   "outputs": [
    {
     "output_type": "stream",
     "name": "stdout",
     "output_type": "stream",
     "text": [
      "Total Matches Played: 1095\n"
     ]
    }
   ],
   "source": [
    "print(\"Total Matches Played:\", matches_df.count())\n"
   ]
  },
  {
   "cell_type": "code",
   "execution_count": 0,
   "metadata": {
    "application/vnd.databricks.v1+cell": {
     "cellMetadata": {
      "byteLimit": 2048000,
      "rowLimit": 10000
     },
     "inputWidgets": {},
     "nuid": "ca9f3661-08a1-4403-b639-079c6486b5f2",
     "showTitle": false,
     "tableResultSettingsMap": {},
     "title": ""
    }
   },
   "outputs": [
    {
     "output_type": "stream",
     "name": "stdout",
     "output_type": "stream",
     "text": [
      "+--------------------+-----+\n|              winner|count|\n+--------------------+-----+\n|      Mumbai Indians|  144|\n| Chennai Super Kings|  138|\n|Kolkata Knight Ri...|  131|\n|Royal Challengers...|  116|\n|    Rajasthan Royals|  112|\n+--------------------+-----+\nonly showing top 5 rows\n\n"
     ]
    }
   ],
   "source": [
    "matches_df.groupBy(\"winner\").count().orderBy(\"count\", ascending=False).show(5)\n"
   ]
  },
  {
   "cell_type": "code",
   "execution_count": 0,
   "metadata": {
    "application/vnd.databricks.v1+cell": {
     "cellMetadata": {
      "byteLimit": 2048000,
      "rowLimit": 10000
     },
     "inputWidgets": {},
     "nuid": "1d5681df-eb69-4ba6-9052-5a8ce1167595",
     "showTitle": false,
     "tableResultSettingsMap": {},
     "title": ""
    }
   },
   "outputs": [],
   "source": [
    "from pyspark.sql.types import IntegerType\n",
    "\n",
    "# Convert batsman_runs to IntegerType\n",
    "deliveries_df = deliveries_df.withColumn(\"batsman_runs\", deliveries_df[\"batsman_runs\"].cast(IntegerType()))\n"
   ]
  },
  {
   "cell_type": "code",
   "execution_count": 0,
   "metadata": {
    "application/vnd.databricks.v1+cell": {
     "cellMetadata": {
      "byteLimit": 2048000,
      "rowLimit": 10000
     },
     "inputWidgets": {},
     "nuid": "81f4a788-c2f5-4398-8f45-964d008c4009",
     "showTitle": false,
     "tableResultSettingsMap": {},
     "title": ""
    }
   },
   "outputs": [
    {
     "output_type": "stream",
     "name": "stdout",
     "output_type": "stream",
     "text": [
      "+---------+-----------------+\n|   batter|sum(batsman_runs)|\n+---------+-----------------+\n|  V Kohli|             8014|\n| S Dhawan|             6769|\n|RG Sharma|             6630|\n|DA Warner|             6567|\n| SK Raina|             5536|\n+---------+-----------------+\nonly showing top 5 rows\n\n"
     ]
    }
   ],
   "source": [
    "from pyspark.sql.types import IntegerType\n",
    "\n",
    "# Convert batsman_runs to IntegerType\n",
    "deliveries_df = deliveries_df.withColumn(\"batsman_runs\", deliveries_df[\"batsman_runs\"].cast(IntegerType()))\n",
    "\n",
    "# Group by batter (not batsman)\n",
    "deliveries_df.groupBy(\"batter\").sum(\"batsman_runs\").orderBy(\"sum(batsman_runs)\", ascending=False).show(5)\n"
   ]
  },
  {
   "cell_type": "code",
   "execution_count": 0,
   "metadata": {
    "application/vnd.databricks.v1+cell": {
     "cellMetadata": {},
     "inputWidgets": {},
     "nuid": "9b1c452b-81e8-4c6a-8039-5680cff10560",
     "showTitle": false,
     "tableResultSettingsMap": {},
     "title": ""
    }
   },
   "outputs": [],
   "source": []
  }
 ],
 "metadata": {
  "application/vnd.databricks.v1+notebook": {
   "computePreferences": null,
   "dashboards": [],
   "environmentMetadata": {
    "base_environment": "",
    "environment_version": "1"
   },
   "inputWidgetPreferences": null,
   "language": "python",
   "notebookMetadata": {
    "pythonIndentUnit": 4
   },
   "notebookName": "IPL Data Ingestion",
   "widgets": {}
  }
 },
 "nbformat": 4,
 "nbformat_minor": 0
}
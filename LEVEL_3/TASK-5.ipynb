{
 "cells": [
  {
   "cell_type": "code",
   "execution_count": 57,
   "id": "15d11d0c-a7fb-44c5-8675-c211f6c45625",
   "metadata": {},
   "outputs": [],
   "source": [
    "import copy \n",
    "lst=[[1,2],[6,7]]"
   ]
  },
  {
   "cell_type": "code",
   "execution_count": 59,
   "id": "2afa9614-22d7-40f3-aef1-b7d1eb657026",
   "metadata": {},
   "outputs": [],
   "source": [
    "lst1=copy.copy(lst)\n",
    "lst2=copy.deepcopy(lst)"
   ]
  },
  {
   "cell_type": "code",
   "execution_count": 61,
   "id": "c3840133-1324-4629-9839-7c95feb11414",
   "metadata": {},
   "outputs": [],
   "source": [
    "lst1[0][1]=8"
   ]
  },
  {
   "cell_type": "code",
   "execution_count": 63,
   "id": "03f16d1d-57f1-4823-b9c2-e963c97ba44a",
   "metadata": {},
   "outputs": [
    {
     "data": {
      "text/plain": [
       "[[1, 8], [6, 7]]"
      ]
     },
     "execution_count": 63,
     "metadata": {},
     "output_type": "execute_result"
    }
   ],
   "source": [
    "lst1"
   ]
  },
  {
   "cell_type": "code",
   "execution_count": 65,
   "id": "67be825c-e74a-4b3f-8bb8-3dae044c70ba",
   "metadata": {},
   "outputs": [
    {
     "data": {
      "text/plain": [
       "[[1, 8], [6, 7]]"
      ]
     },
     "execution_count": 65,
     "metadata": {},
     "output_type": "execute_result"
    }
   ],
   "source": [
    "lst"
   ]
  },
  {
   "cell_type": "code",
   "execution_count": 67,
   "id": "f5e5a9a3-a92d-48b9-abd9-40b875ca5af7",
   "metadata": {},
   "outputs": [
    {
     "data": {
      "text/plain": [
       "[[1, 12], [6, 7]]"
      ]
     },
     "execution_count": 67,
     "metadata": {},
     "output_type": "execute_result"
    }
   ],
   "source": [
    "lst2[0][1]=12\n",
    "lst2"
   ]
  },
  {
   "cell_type": "code",
   "execution_count": 69,
   "id": "c421ac40-6e8d-408c-be73-3f1fe560ae86",
   "metadata": {},
   "outputs": [
    {
     "data": {
      "text/plain": [
       "[[1, 8], [6, 7]]"
      ]
     },
     "execution_count": 69,
     "metadata": {},
     "output_type": "execute_result"
    }
   ],
   "source": [
    "lst"
   ]
  },
  {
   "cell_type": "code",
   "execution_count": null,
   "id": "0071e0a2-4ee2-44b0-80eb-699aabbaace6",
   "metadata": {},
   "outputs": [],
   "source": []
  }
 ],
 "metadata": {
  "kernelspec": {
   "display_name": "Python 3 (ipykernel)",
   "language": "python",
   "name": "python3"
  },
  "language_info": {
   "codemirror_mode": {
    "name": "ipython",
    "version": 3
   },
   "file_extension": ".py",
   "mimetype": "text/x-python",
   "name": "python",
   "nbconvert_exporter": "python",
   "pygments_lexer": "ipython3",
   "version": "3.12.4"
  }
 },
 "nbformat": 4,
 "nbformat_minor": 5
}
